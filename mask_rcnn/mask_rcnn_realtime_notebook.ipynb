{
 "cells": [
  {
   "cell_type": "markdown",
   "source": [
    "Install Requirements"
   ],
   "metadata": {
    "collapsed": false,
    "pycharm": {
     "name": "#%% md\n"
    }
   }
  },
  {
   "cell_type": "code",
   "execution_count": 1,
   "outputs": [
    {
     "name": "stderr",
     "text": [
      "UsageError: Line magic function `%tensorflow_version` not found.\n"
     ],
     "output_type": "stream"
    }
   ],
   "source": [
    "%tensorflow_version 1.x"
   ],
   "metadata": {
    "collapsed": false,
    "pycharm": {
     "name": "#%%\n",
     "is_executing": false
    }
   }
  },
  {
   "cell_type": "code",
   "execution_count": null,
   "outputs": [],
   "source": [
    "%cd\n",
    "!git clone --quiet https://github.com/matterport/Mask_RCNN.git\n",
    "%cd ~/Mask_RCNN\n",
    "!pip install -q PyDrive\n",
    "!pip install -r requirements.txt\n",
    "!python setup.py install"
   ],
   "metadata": {
    "collapsed": false,
    "pycharm": {
     "name": "#%%\n",
     "is_executing": false
    }
   }
  },
  {
   "cell_type": "markdown",
   "source": [
    "Clone Repository"
   ],
   "metadata": {
    "collapsed": false,
    "pycharm": {
     "name": "#%% md\n"
    }
   }
  },
  {
   "cell_type": "code",
   "execution_count": null,
   "outputs": [],
   "source": [
    "!ssh-keygen -t rsa -b 4096  # generate ssh key for cloning"
   ],
   "metadata": {
    "collapsed": false,
    "pycharm": {
     "name": "#%%\n",
     "is_executing": false
    }
   }
  },
  {
   "cell_type": "code",
   "execution_count": null,
   "outputs": [],
   "source": [
    "!ssh-keyscan -t rsa github.com >> ~/.ssh/known_hosts\n",
    "!cat /root/.ssh/id_rsa.pub"
   ],
   "metadata": {
    "collapsed": false,
    "pycharm": {
     "name": "#%%\n",
     "is_executing": false
    }
   }
  },
  {
   "cell_type": "code",
   "execution_count": null,
   "outputs": [],
   "source": [
    "%cd\n",
    "!ssh -T git@github.com\n",
    "# !git clone --quiet git@github.com:joangog/object-detection.git\n",
    "!git clone --quiet https://github.com/joangog/object-detection.git\n",
    "%cd ~/object-detection/mask_rcnn\n",
    "!gdown --id 1XSoq8VSnuEcdeVbuWec2m8iVFWtw_6lC"
   ],
   "metadata": {
    "collapsed": false,
    "pycharm": {
     "name": "#%%\n",
     "is_executing": false
    }
   }
  },
  {
   "cell_type": "markdown",
   "source": [
    "Run Mask R-CNN"
   ],
   "metadata": {
    "collapsed": false,
    "pycharm": {
     "name": "#%% md\n"
    }
   }
  },
  {
   "cell_type": "code",
   "execution_count": 3,
   "outputs": [
    {
     "traceback": [
      "\u001b[1;31m---------------------------------------------------------------------------\u001b[0m",
      "\u001b[1;31mModuleNotFoundError\u001b[0m                       Traceback (most recent call last)",
      "\u001b[1;32m<ipython-input-3-43e78c5c6548>\u001b[0m in \u001b[0;36m<module>\u001b[1;34m\u001b[0m\n\u001b[0;32m      5\u001b[0m \u001b[1;32mimport\u001b[0m \u001b[0mmatplotlib\u001b[0m \u001b[1;32mas\u001b[0m \u001b[0mplt\u001b[0m\u001b[1;33m\u001b[0m\u001b[1;33m\u001b[0m\u001b[0m\n\u001b[0;32m      6\u001b[0m \u001b[1;32mfrom\u001b[0m \u001b[0mIPython\u001b[0m\u001b[1;33m.\u001b[0m\u001b[0mdisplay\u001b[0m \u001b[1;32mimport\u001b[0m \u001b[0mdisplay\u001b[0m\u001b[1;33m,\u001b[0m \u001b[0mJavascript\u001b[0m\u001b[1;33m\u001b[0m\u001b[1;33m\u001b[0m\u001b[0m\n\u001b[1;32m----> 7\u001b[1;33m \u001b[1;32mfrom\u001b[0m \u001b[0mgoogle\u001b[0m\u001b[1;33m.\u001b[0m\u001b[0mcolab\u001b[0m\u001b[1;33m.\u001b[0m\u001b[0moutput\u001b[0m \u001b[1;32mimport\u001b[0m \u001b[0meval_js\u001b[0m\u001b[1;33m\u001b[0m\u001b[1;33m\u001b[0m\u001b[0m\n\u001b[0m\u001b[0;32m      8\u001b[0m \u001b[1;33m\u001b[0m\u001b[0m\n\u001b[0;32m      9\u001b[0m \u001b[0mget_ipython\u001b[0m\u001b[1;33m(\u001b[0m\u001b[1;33m)\u001b[0m\u001b[1;33m.\u001b[0m\u001b[0mrun_line_magic\u001b[0m\u001b[1;33m(\u001b[0m\u001b[1;34m'cd'\u001b[0m\u001b[1;33m,\u001b[0m \u001b[1;34m'~/object-detection/Mask_RCNN'\u001b[0m\u001b[1;33m)\u001b[0m\u001b[1;33m\u001b[0m\u001b[1;33m\u001b[0m\u001b[0m\n",
      "\u001b[1;31mModuleNotFoundError\u001b[0m: No module named 'google.colab'"
     ],
     "ename": "ModuleNotFoundError",
     "evalue": "No module named 'google.colab'",
     "output_type": "error"
    }
   ],
   "source": [
    "import os, sys\n",
    "\n",
    "import numpy as np\n",
    "from IPython.display import display, Javascript\n",
    "from google.colab.output import eval_js\n",
    "\n",
    "%cd ~/Mask_RCNN\n",
    "from mrcnn.config import Config\n",
    "from mrcnn.model import MaskRCNN\n",
    "\n",
    "%cd ~/object-detection\n",
    "from mask_rcnn.visualize import display_instances\n",
    "\n",
    "%cd ~/object-detection/mask_rcnn\n",
    "\n",
    "# Directory of the project\n",
    "root_dir = os.path.abspath(\"../\")\n",
    "\n",
    "# Directory of test images\n",
    "image_dir = os.path.join(root_dir, \"images\")\n",
    "\n",
    "# Directory of model\n",
    "model_dir = os.path.join(root_dir, \"mask_rcnn\")\n",
    "\n",
    "# Define model configurations\n",
    "class MyConfig(Config):\n",
    "    NAME = \"coco\"\n",
    "    GPU_COUNT = 1\n",
    "    IMAGES_PER_GPU = 1\n",
    "    NUM_CLASSES = 1 + 80  # COCO has 80 classes\n",
    "\n",
    "# Define model\n",
    "model = MaskRCNN(mode='inference', model_dir='./log', config=MyConfig())\n",
    "\n",
    "# Load pre-trained COCO weights\n",
    "model.load_weights(os.path.join(model_dir, \"mask_rcnn_coco.h5\"), by_name=True)\n",
    "\n",
    "# Define COCO class names\n",
    "class_names = ['BG', 'person', 'bicycle', 'car', 'motorcycle', 'airplane',\n",
    "               'bus', 'train', 'truck', 'boat', 'traffic light',\n",
    "               'fire hydrant', 'stop sign', 'parking meter', 'bench', 'bird',\n",
    "               'cat', 'dog', 'horse', 'sheep', 'cow', 'elephant', 'bear',\n",
    "               'zebra', 'giraffe', 'backpack', 'umbrella', 'handbag', 'tie',\n",
    "               'suitcase', 'frisbee', 'skis', 'snowboard', 'sports ball',\n",
    "               'kite', 'baseball bat', 'baseball glove', 'skateboard',\n",
    "               'surfboard', 'tennis racket', 'bottle', 'wine glass', 'cup',\n",
    "               'fork', 'knife', 'spoon', 'bowl', 'banana', 'apple',\n",
    "               'sandwich', 'orange', 'broccoli', 'carrot', 'hot dog', 'pizza',\n",
    "               'donut', 'cake', 'chair', 'couch', 'potted plant', 'bed',\n",
    "               'dining table', 'toilet', 'tv', 'laptop', 'mouse', 'remote',\n",
    "               'keyboard', 'cell phone', 'microwave', 'oven', 'toaster',\n",
    "               'sink', 'refrigerator', 'book', 'clock', 'vase', 'scissors',\n",
    "               'teddy bear', 'hair drier', 'toothbrush']\n",
    "\n",
    "\n",
    "def imageData2Array(imageData):\n",
    "  # Receives JavaScript's ImageData and converts to Python Array\n",
    "  \n",
    "  data = imageData[0]  # It is in dictionary format\n",
    "  height = imageData[1]\n",
    "  width = imageData[2]\n",
    "\n",
    "  # Initialize array\n",
    "  array = np.zeros((height,width,3))  # 3 is for RGB (exclude Aplha)\n",
    "  \n",
    "  for i in range(0,height):  # For every line\n",
    "    for j in range(0,width):  # For every column\n",
    "      for k in range(0,3):  # For RGB\n",
    "        array[i,j,k] = int(data[str(k + j*4 + i*width)])  # 4 is because RGB and Alpha is stored\n",
    "  \n",
    "  return array\n",
    "\n",
    "\n",
    "def array2ImageData(array):\n",
    "  # Receives Python Array and converts to JavaScript's ImageData\n",
    "  shape =  array.shape\n",
    "  height = shape[0]\n",
    "  width = shape[1]\n",
    "\n",
    "  # Initialize data\n",
    "  data = [0 for i in range(4*height*width)]\n",
    "  \n",
    "  for i in range(0,height):  # For every line\n",
    "    for j in range(0,width):  # For every column\n",
    "      for k in range(0,3):  # For RGB\n",
    "        data[k + j*4 + i*width] = int(array[i,j,k])\n",
    "\n",
    "  return [data,height,width]\n",
    "\n",
    "\n",
    "try:\n",
    "  js = Javascript('''\n",
    "\n",
    "    async function streamVideo() {\n",
    "  \n",
    "      const div = document.createElement('div');\n",
    "      \n",
    "      // Video components\n",
    "      const video_input = document.createElement('video');\n",
    "      video_input.id = 'video-input'\n",
    "      video_input.style.display = 'block';\n",
    "      video_input.style.float = 'left'\n",
    "      const video_output = document.createElement('video');\n",
    "      video_output.id = 'video-output'\n",
    "      video_output.style.display = 'block';\n",
    "      video_output.style.float = 'right'\n",
    "      \n",
    "      const stream_input = await navigator.mediaDevices.getUserMedia({video: true});\n",
    "      video_input.srcObject = stream_input;\n",
    "\n",
    "      const height = stream_input.getTracks()[0].getSettings().height\n",
    "      const width = stream_input.getTracks()[0].getSettings().width\n",
    "\n",
    "      document.body.appendChild(div);\n",
    "      div.appendChild(video_input);\n",
    "      div.appendChild(video_output);\n",
    "\n",
    "      // Canvas components\n",
    "      const canvas_input = document.createElement('canvas');\n",
    "      canvas_input.id = 'canvas-input'\n",
    "      canvas_input.style.display = 'block';\n",
    "      canvas_input.width = width\n",
    "      canvas_input.height = height\n",
    "      const canvas_output = document.createElement('canvas');\n",
    "      canvas_output.id = 'canvas-output'\n",
    "      canvas_output.style.display = 'block';\n",
    "      canvas_output.width = width\n",
    "      canvas_output.height = height\n",
    "      \n",
    "      const stream_output = canvas_output.captureStream();\n",
    "      video_output.srcObject = stream_output;\n",
    "\n",
    "      div.appendChild(canvas_input);\n",
    "      div.appendChild(canvas_output);\n",
    "      \n",
    "      await video_input.play();\n",
    "\n",
    "      // Resize the output to fit the video element\n",
    "      google.colab.output.setIframeHeight(document.documentElement.scrollHeight, true);\n",
    "\n",
    "    }\n",
    "\n",
    "    async function readFrame() {\n",
    "      video_input = document.getElementById('video-input')\n",
    "      canvas_input = document.getElementById('canvas-input')\n",
    "      canvas_input.getContext('2d').drawImage(video_input, 0, 0)\n",
    "      imageData = canvas_input.getContext('2d').getImageData(0,0,canvas_input.height,canvas_input.width)\n",
    "      data = imageData.data\n",
    "      height = imageData.height\n",
    "      width = imageData.width\n",
    "      return [data,height,width]\n",
    "    }\n",
    "\n",
    "    async function writeFrame(imageArray) {\n",
    "      data = new Uint8ClampedArray(imageArray[0])\n",
    "      height = imageArray[1]\n",
    "      width = imageArray[2]\n",
    "      imageData = new ImageData(data,height,width)\n",
    "      canvas_output = document.getElementById('canvas-output')\n",
    "      canvas_output.getContext('2d').putImageData(imageData,0,0); \n",
    "    }\n",
    "\n",
    "    ''')\n",
    "\n",
    "except Exception as err:\n",
    "  # Errors will be thrown if the user does not have a webcam or if they do not\n",
    "  # grant the page permission to access it.\n",
    "  print(str(err))\n",
    "\n",
    "display(js)\n",
    "eval_js('streamVideo({})')\n",
    "\n",
    "# Run detection\n",
    "while True: # loop over frames from the web camera\n",
    "    \n",
    "    data_in = eval_js('readFrame({})')\n",
    "    frame = imageData2Array(data_in)\n",
    "    \n",
    "    # Run algorithm\n",
    "    results = model.detect([frame], verbose=1)\n",
    "\n",
    "    # Render masked frame\n",
    "    masked_frame = display_instances(frame, results[0]['rois'], results[0]['masks'], results[0]['class_ids'],\n",
    "                                class_names, results[0]['scores'])\n",
    "    \n",
    "    data_out = array2ImageData(masked_frame)\n",
    "    frame = eval_js('writeFrame({})'.format(data_out))"
   ],
   "metadata": {
    "collapsed": false,
    "pycharm": {
     "name": "#%%\n",
     "is_executing": false
    }
   }
  }
 ],
 "metadata": {
  "kernelspec": {
   "name": "pycharm-cc650162",
   "language": "python",
   "display_name": "PyCharm (object-detection)"
  },
  "language_info": {
   "codemirror_mode": {
    "name": "ipython",
    "version": 2
   },
   "file_extension": ".py",
   "mimetype": "text/x-python",
   "name": "python",
   "nbconvert_exporter": "python",
   "pygments_lexer": "ipython2",
   "version": "2.7.6"
  },
  "pycharm": {
   "stem_cell": {
    "cell_type": "raw",
    "source": [],
    "metadata": {
     "collapsed": false
    }
   }
  }
 },
 "nbformat": 4,
 "nbformat_minor": 0
}
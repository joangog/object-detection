{
 "nbformat": 4,
 "nbformat_minor": 0,
 "metadata": {
  "kernelspec": {
   "display_name": "Python 3",
   "language": "python",
   "name": "python3"
  },
  "language_info": {
   "codemirror_mode": {
    "name": "ipython",
    "version": 2
   },
   "file_extension": ".py",
   "mimetype": "text/x-python",
   "name": "python",
   "nbconvert_exporter": "python",
   "pygments_lexer": "ipython2",
   "version": "2.7.6"
  },
  "colab": {
   "name": "mask_rcnn_train_coco.ipynb",
   "provenance": [],
   "collapsed_sections": []
  }
 },
 "cells": [
  {
   "cell_type": "markdown",
   "metadata": {
    "id": "Z5pS3UoY3BYn",
    "pycharm": {
     "name": "#%% md\n"
    }
   },
   "source": [
    "Install Tensorflow Object Detection API"
   ]
  },
  {
   "cell_type": "code",
   "execution_count": null,
   "outputs": [],
   "source": [
    "# Clone Tensorflow Object Detection API repo\n",
    "%cd /content\n",
    "!git clone https://github.com/tensorflow/models.git"
   ],
   "metadata": {
    "collapsed": false,
    "pycharm": {
     "name": "#%%\n"
    }
   }
  },
  {
   "cell_type": "code",
   "execution_count": null,
   "outputs": [],
   "source": [
    "%tensorflow_version 2.x\n",
    "\n",
    "# Install Protobuf\n",
    "!apt-get install -qq protobuf-compiler python-pil python-lxml python-tk\n",
    "%cd /content/models/research\n",
    "!protoc object_detection/protos/*.proto --python_out=.\n",
    "# Install TensorFlow Object Detection API\n",
    "%cp object_detection/packages/tf2/setup.py .\n",
    "!python -m pip --quiet install ."
   ],
   "metadata": {
    "collapsed": false,
    "pycharm": {
     "name": "#%%\n"
    }
   }
  },
  {
   "cell_type": "markdown",
   "source": [
    "Download COCO 2017 Dataset"
   ],
   "metadata": {
    "collapsed": false
   }
  },
  {
   "cell_type": "code",
   "metadata": {
    "collapsed": true,
    "colab": {
     "base_uri": "https://localhost:8080/"
    },
    "id": "E6b7Q_Va2D2o",
    "executionInfo": {
     "status": "ok",
     "timestamp": 1621164754018,
     "user_tz": -180,
     "elapsed": 597,
     "user": {
      "displayName": "Ioanna G.",
      "photoUrl": "https://lh3.googleusercontent.com/a-/AOh14Ggai4NGEPoguDKoE7h7elneJbf-YG9nq_JmRQnx4Q=s64",
      "userId": "07765366700545511118"
     }
    },
    "outputId": "56a628e8-f36f-4911-c720-ab3942296a80"
   },
   "source": [
    "Download COCO 2017 Dataset"
   ],
   "execution_count": 27,
   "outputs": [
    {
     "output_type": "stream",
     "text": [
      "/content\n",
      "fatal: destination path 'models' already exists and is not an empty directory.\n"
     ],
     "name": "stdout"
    }
   ]
  },
  {
   "cell_type": "code",
   "metadata": {
    "id": "UFji4Ltg47Ea",
    "colab": {
     "base_uri": "https://localhost:8080/"
    },
    "executionInfo": {
     "status": "ok",
     "timestamp": 1621165104358,
     "user_tz": -180,
     "elapsed": 13170,
     "user": {
      "displayName": "Ioanna G.",
      "photoUrl": "https://lh3.googleusercontent.com/a-/AOh14Ggai4NGEPoguDKoE7h7elneJbf-YG9nq_JmRQnx4Q=s64",
      "userId": "07765366700545511118"
     }
    },
    "outputId": "a81903bf-f24f-4c57-89cb-9ef9e97352fd"
   },
   "source": [
    "%tensorflow_version 2.x\n",
    "\n",
    "# Install Protobuf\n",
    "!apt-get install -qq protobuf-compiler python-pil python-lxml python-tk\n",
    "%cd /content/models/research\n",
    "!protoc object_detection/protos/*.proto --python_out=.\n",
    "# Install TensorFlow Object Detection API\n",
    "%cp object_detection/packages/tf2/setup.py .\n",
    "!python -m pip --quiet install ."
   ],
   "execution_count": 34,
   "outputs": [
    {
     "output_type": "stream",
     "text": [
      "/content/models/research\n",
      "  Building wheel for object-detection (setup.py) ... \u001B[?25l\u001B[?25hdone\n"
     ],
     "name": "stdout"
    }
   ]
  },
  {
   "cell_type": "markdown",
   "metadata": {
    "id": "kFpoV3E0-smW"
   },
   "source": [
    "Download COCO 2017 Dataset"
   ]
  }
 ]
}
{
  "nbformat": 4,
  "nbformat_minor": 0,
  "metadata": {
    "colab": {
      "name": "coco2017_analysis.ipynb",
      "provenance": [],
      "authorship_tag": "ABX9TyN+ynJDPixheAG+kLP/A968",
      "include_colab_link": true
    },
    "kernelspec": {
      "name": "python3",
      "display_name": "Python 3"
    },
    "language_info": {
      "name": "python"
    }
  },
  "cells": [
    {
      "cell_type": "markdown",
      "metadata": {
        "id": "view-in-github",
        "colab_type": "text"
      },
      "source": [
        "<a href=\"https://colab.research.google.com/github/joangog/object-detection/blob/main/coco2017_analysis.ipynb\" target=\"_parent\"><img src=\"https://colab.research.google.com/assets/colab-badge.svg\" alt=\"Open In Colab\"/></a>"
      ]
    },
    {
      "cell_type": "markdown",
      "metadata": {
        "id": "D4SYUOZZ6a2p"
      },
      "source": [
        "## Model comparison on COCO 2017 dataset (Analysis)\n",
        "*   SSD300 VGG16\n",
        "*   SSDlite320 MobileNetV3-Large\n",
        "*   Faster R-CNN ResNet-50 FPN\n",
        "*   Faster R-CNN MobileNetV3-Large FPN\n",
        "*   Mask R-CNN ResNet-50 FPN\n",
        "*   YOLOv5s\n",
        "*   YOLOv5m\n",
        "*   YOLOv5l\n",
        "*   YOLOv3 (to do)\n",
        "*   YOLOv3 Tiny (to do)"
      ]
    },
    {
      "cell_type": "markdown",
      "metadata": {
        "id": "cLBYyDt79GPV"
      },
      "source": [
        "### Import packages"
      ]
    },
    {
      "cell_type": "code",
      "metadata": {
        "id": "5dWvbDvi9cx8"
      },
      "source": [
        "from google.colab import drive\n",
        "\n",
        "import os\n",
        "\n",
        "import pandas as pd\n",
        "\n",
        "import matplotlib\n",
        "import matplotlib.pyplot as plt\n",
        "%matplotlib inline"
      ],
      "execution_count": 2,
      "outputs": []
    },
    {
      "cell_type": "markdown",
      "metadata": {
        "id": "B5U_pfwl6qAp"
      },
      "source": [
        "### Gather evaluation results"
      ]
    },
    {
      "cell_type": "code",
      "metadata": {
        "colab": {
          "base_uri": "https://localhost:8080/",
          "height": 473
        },
        "id": "ZcPHFYMQ9lH0",
        "outputId": "8a5f3b55-5cde-488b-e057-1aa1b8a147b0"
      },
      "source": [
        "# Mount GDrive directory\n",
        "drive.mount('/content/drive')\n",
        "results_dir = '/content/drive/MyDrive/object-detection-outputs/COCO2017'\n",
        "results_files = os.listdir(results_dir)\n",
        "results_files = [file for file in results_files if '.csv' in file]\n",
        "print(results_files)\n",
        "\n",
        "results = pd.DataFrame(columns=['model', 'model_time', 'iou_type', 'metric', 'iou', 'area', 'max_dets', 'score'])\n",
        "for file in results_files:\n",
        "  file_path = os.path.join(results_dir,file)\n",
        "  results = results.append(pd.read_csv(file_path))\n",
        "results = results.reset_index().iloc[:,1:-1]  # Drop uneeded columns\n",
        "results"
      ],
      "execution_count": 17,
      "outputs": [
        {
          "output_type": "stream",
          "text": [
            "Drive already mounted at /content/drive; to attempt to forcibly remount, call drive.mount(\"/content/drive\", force_remount=True).\n",
            "['ssd300_vgg16_coco17_results.csv', 'fasterrcnn_resnet50_fpn_coco17_results.csv', 'maskrcnn_resnet50_fpn_coco17_results.csv', 'yolov5s_coco17_results.csv', 'yolov5m_coco17_results.csv', 'yolov5l_coco17_results.csv']\n"
          ],
          "name": "stdout"
        },
        {
          "output_type": "execute_result",
          "data": {
            "text/html": [
              "<div>\n",
              "<style scoped>\n",
              "    .dataframe tbody tr th:only-of-type {\n",
              "        vertical-align: middle;\n",
              "    }\n",
              "\n",
              "    .dataframe tbody tr th {\n",
              "        vertical-align: top;\n",
              "    }\n",
              "\n",
              "    .dataframe thead th {\n",
              "        text-align: right;\n",
              "    }\n",
              "</style>\n",
              "<table border=\"1\" class=\"dataframe\">\n",
              "  <thead>\n",
              "    <tr style=\"text-align: right;\">\n",
              "      <th></th>\n",
              "      <th>model</th>\n",
              "      <th>model_time</th>\n",
              "      <th>iou_type</th>\n",
              "      <th>metric</th>\n",
              "      <th>iou</th>\n",
              "      <th>area</th>\n",
              "      <th>max_dets</th>\n",
              "      <th>score</th>\n",
              "    </tr>\n",
              "  </thead>\n",
              "  <tbody>\n",
              "    <tr>\n",
              "      <th>0</th>\n",
              "      <td>SSD300 VGG16</td>\n",
              "      <td>0.17055</td>\n",
              "      <td>bbox</td>\n",
              "      <td>avg_precision</td>\n",
              "      <td>0.50:0.95</td>\n",
              "      <td>all</td>\n",
              "      <td>100</td>\n",
              "      <td>0.251052</td>\n",
              "    </tr>\n",
              "    <tr>\n",
              "      <th>1</th>\n",
              "      <td>SSD300 VGG16</td>\n",
              "      <td>0.17055</td>\n",
              "      <td>bbox</td>\n",
              "      <td>avg_precision</td>\n",
              "      <td>0.50</td>\n",
              "      <td>all</td>\n",
              "      <td>100</td>\n",
              "      <td>0.415694</td>\n",
              "    </tr>\n",
              "    <tr>\n",
              "      <th>2</th>\n",
              "      <td>SSD300 VGG16</td>\n",
              "      <td>0.17055</td>\n",
              "      <td>bbox</td>\n",
              "      <td>avg_precision</td>\n",
              "      <td>0.75</td>\n",
              "      <td>all</td>\n",
              "      <td>100</td>\n",
              "      <td>0.262727</td>\n",
              "    </tr>\n",
              "    <tr>\n",
              "      <th>3</th>\n",
              "      <td>SSD300 VGG16</td>\n",
              "      <td>0.17055</td>\n",
              "      <td>bbox</td>\n",
              "      <td>avg_precision</td>\n",
              "      <td>0.50:0.95</td>\n",
              "      <td>small</td>\n",
              "      <td>100</td>\n",
              "      <td>0.055563</td>\n",
              "    </tr>\n",
              "    <tr>\n",
              "      <th>4</th>\n",
              "      <td>SSD300 VGG16</td>\n",
              "      <td>0.17055</td>\n",
              "      <td>bbox</td>\n",
              "      <td>avg_precision</td>\n",
              "      <td>0.50:0.95</td>\n",
              "      <td>medium</td>\n",
              "      <td>100</td>\n",
              "      <td>0.268253</td>\n",
              "    </tr>\n",
              "    <tr>\n",
              "      <th>...</th>\n",
              "      <td>...</td>\n",
              "      <td>...</td>\n",
              "      <td>...</td>\n",
              "      <td>...</td>\n",
              "      <td>...</td>\n",
              "      <td>...</td>\n",
              "      <td>...</td>\n",
              "      <td>...</td>\n",
              "    </tr>\n",
              "    <tr>\n",
              "      <th>79</th>\n",
              "      <td>YOLOv5l</td>\n",
              "      <td>0.18204</td>\n",
              "      <td>bbox</td>\n",
              "      <td>avg_recall</td>\n",
              "      <td>0.50:0.95</td>\n",
              "      <td>all</td>\n",
              "      <td>10</td>\n",
              "      <td>0.490071</td>\n",
              "    </tr>\n",
              "    <tr>\n",
              "      <th>80</th>\n",
              "      <td>YOLOv5l</td>\n",
              "      <td>0.18204</td>\n",
              "      <td>bbox</td>\n",
              "      <td>avg_recall</td>\n",
              "      <td>0.50:0.95</td>\n",
              "      <td>all</td>\n",
              "      <td>100</td>\n",
              "      <td>0.498907</td>\n",
              "    </tr>\n",
              "    <tr>\n",
              "      <th>81</th>\n",
              "      <td>YOLOv5l</td>\n",
              "      <td>0.18204</td>\n",
              "      <td>bbox</td>\n",
              "      <td>avg_recall</td>\n",
              "      <td>0.50:0.95</td>\n",
              "      <td>small</td>\n",
              "      <td>100</td>\n",
              "      <td>0.299156</td>\n",
              "    </tr>\n",
              "    <tr>\n",
              "      <th>82</th>\n",
              "      <td>YOLOv5l</td>\n",
              "      <td>0.18204</td>\n",
              "      <td>bbox</td>\n",
              "      <td>avg_recall</td>\n",
              "      <td>0.50:0.95</td>\n",
              "      <td>medium</td>\n",
              "      <td>100</td>\n",
              "      <td>0.549439</td>\n",
              "    </tr>\n",
              "    <tr>\n",
              "      <th>83</th>\n",
              "      <td>YOLOv5l</td>\n",
              "      <td>0.18204</td>\n",
              "      <td>bbox</td>\n",
              "      <td>avg_recall</td>\n",
              "      <td>0.50:0.95</td>\n",
              "      <td>large</td>\n",
              "      <td>100</td>\n",
              "      <td>0.648933</td>\n",
              "    </tr>\n",
              "  </tbody>\n",
              "</table>\n",
              "<p>84 rows × 8 columns</p>\n",
              "</div>"
            ],
            "text/plain": [
              "           model  model_time iou_type  ...    area max_dets     score\n",
              "0   SSD300 VGG16     0.17055     bbox  ...     all      100  0.251052\n",
              "1   SSD300 VGG16     0.17055     bbox  ...     all      100  0.415694\n",
              "2   SSD300 VGG16     0.17055     bbox  ...     all      100  0.262727\n",
              "3   SSD300 VGG16     0.17055     bbox  ...   small      100  0.055563\n",
              "4   SSD300 VGG16     0.17055     bbox  ...  medium      100  0.268253\n",
              "..           ...         ...      ...  ...     ...      ...       ...\n",
              "79       YOLOv5l     0.18204     bbox  ...     all       10  0.490071\n",
              "80       YOLOv5l     0.18204     bbox  ...     all      100  0.498907\n",
              "81       YOLOv5l     0.18204     bbox  ...   small      100  0.299156\n",
              "82       YOLOv5l     0.18204     bbox  ...  medium      100  0.549439\n",
              "83       YOLOv5l     0.18204     bbox  ...   large      100  0.648933\n",
              "\n",
              "[84 rows x 8 columns]"
            ]
          },
          "metadata": {},
          "execution_count": 17
        }
      ]
    },
    {
      "cell_type": "markdown",
      "metadata": {
        "id": "ycwNm3INFkf0"
      },
      "source": [
        "### Plot Time/mAP graph (max detections = 100)"
      ]
    },
    {
      "cell_type": "code",
      "metadata": {
        "colab": {
          "base_uri": "https://localhost:8080/",
          "height": 336
        },
        "id": "iSUZ-GZEHZD1",
        "outputId": "a7668255-7e23-48d5-ae3f-0d434aebb725"
      },
      "source": [
        "models = results.model.unique()\n",
        "\n",
        "plot_data = results[\n",
        "              (results['iou_type'] == 'bbox') &\n",
        "              (results['metric'] == 'avg_precision') & \n",
        "              (results['iou'] == '0.50:0.95') &\n",
        "              (results['area'] == 'all') &\n",
        "              (results['max_dets'] == 100)\n",
        "              ]\n",
        "\n",
        "time = plot_data['model_time'].values\n",
        "fps = 1.0 / time\n",
        "mAP = plot_data['score'].values\n",
        "\n",
        "\n",
        "plt.figure()\n",
        "for i, model in enumerate(models):\n",
        "    plt.annotate(model, (mAP[i], fps[i]), xytext=(5, 5), textcoords='offset points')\n",
        "plt.plot(mAP,fps,'.')\n",
        "plt.xlabel = 'MAP'\n",
        "plt.ylabel = 'FPS'\n",
        "plt.show()\n",
        "\n",
        "fps, mAP"
      ],
      "execution_count": 18,
      "outputs": [
        {
          "output_type": "display_data",
          "data": {
            "image/png": "[encoded data removed]",
            "text/plain": [
              "<Figure size 432x288 with 1 Axes>"
            ]
          },
          "metadata": {
            "needs_background": "light"
          }
        },
        {
          "output_type": "execute_result",
          "data": {
            "text/plain": [
              "(array([ 5.86337946,  1.2108156 ,  1.07102878, 17.06562506,  8.96128808,\n",
              "         5.4932917 ]),\n",
              " array([0.25105235, 0.36915638, 0.37821932, 0.31132038, 0.39450703,\n",
              "        0.43206616]))"
            ]
          },
          "metadata": {},
          "execution_count": 18
        }
      ]
    }
  ]
}
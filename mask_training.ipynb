{
  "nbformat": 4,
  "nbformat_minor": 0,
  "metadata": {
    "colab": {
      "name": "mask_training.ipynb",
      "provenance": [],
      "collapsed_sections": [
        "l9IQxr2jWaui",
        "Lp4s5Q5fdG_x",
        "LBR6LGJI2nbe",
        "6hBNZ1E5oHv2",
        "kFpoV3E0-smW",
        "TqD0UEvTBQsD",
        "Uara-01_5NIB"
      ],
      "authorship_tag": "ABX9TyNdCJhKXn1WRuzhwlTVmqKM",
      "include_colab_link": true
    },
    "kernelspec": {
      "name": "python3",
      "display_name": "Python 3"
    },
    "language_info": {
      "name": "python"
    },
    "widgets": {
      "application/vnd.jupyter.widget-state+json": {
        "eaa09ad5a7764482b6c81b848afe3bd2": {
          "model_module": "@jupyter-widgets/controls",
          "model_name": "HBoxModel",
          "model_module_version": "1.5.0",
          "state": {
            "_dom_classes": [],
            "_model_module": "@jupyter-widgets/controls",
            "_model_module_version": "1.5.0",
            "_model_name": "HBoxModel",
            "_view_count": null,
            "_view_module": "@jupyter-widgets/controls",
            "_view_module_version": "1.5.0",
            "_view_name": "HBoxView",
            "box_style": "",
            "children": [
              "IPY_MODEL_e1bd20fe7d4249b2b1b66b0057662905",
              "IPY_MODEL_7a619d70c4de40519b3c66192916a85c",
              "IPY_MODEL_bb9e07276fdb4bacbef185989dd21057"
            ],
            "layout": "IPY_MODEL_c3e7d8431ac04031bc4228beebef216f"
          }
        },
        "e1bd20fe7d4249b2b1b66b0057662905": {
          "model_module": "@jupyter-widgets/controls",
          "model_name": "HTMLModel",
          "model_module_version": "1.5.0",
          "state": {
            "_dom_classes": [],
            "_model_module": "@jupyter-widgets/controls",
            "_model_module_version": "1.5.0",
            "_model_name": "HTMLModel",
            "_view_count": null,
            "_view_module": "@jupyter-widgets/controls",
            "_view_module_version": "1.5.0",
            "_view_name": "HTMLView",
            "description": "",
            "description_tooltip": null,
            "layout": "IPY_MODEL_5f6a5d97cab8454081a0d1a702cf66e7",
            "placeholder": "​",
            "style": "IPY_MODEL_d0bbeeedfa4945239b2d0d28ae599c32",
            "value": "100%"
          }
        },
        "7a619d70c4de40519b3c66192916a85c": {
          "model_module": "@jupyter-widgets/controls",
          "model_name": "FloatProgressModel",
          "model_module_version": "1.5.0",
          "state": {
            "_dom_classes": [],
            "_model_module": "@jupyter-widgets/controls",
            "_model_module_version": "1.5.0",
            "_model_name": "FloatProgressModel",
            "_view_count": null,
            "_view_module": "@jupyter-widgets/controls",
            "_view_module_version": "1.5.0",
            "_view_name": "ProgressView",
            "bar_style": "success",
            "description": "",
            "description_tooltip": null,
            "layout": "IPY_MODEL_68f92cb4d9a1419791db6857a5d9da06",
            "max": 14795158,
            "min": 0,
            "orientation": "horizontal",
            "style": "IPY_MODEL_203c25148b46464ab232f74ec1d769b4",
            "value": 14795158
          }
        },
        "bb9e07276fdb4bacbef185989dd21057": {
          "model_module": "@jupyter-widgets/controls",
          "model_name": "HTMLModel",
          "model_module_version": "1.5.0",
          "state": {
            "_dom_classes": [],
            "_model_module": "@jupyter-widgets/controls",
            "_model_module_version": "1.5.0",
            "_model_name": "HTMLModel",
            "_view_count": null,
            "_view_module": "@jupyter-widgets/controls",
            "_view_module_version": "1.5.0",
            "_view_name": "HTMLView",
            "description": "",
            "description_tooltip": null,
            "layout": "IPY_MODEL_fa5bc888b3c444b0b013bec483e7d502",
            "placeholder": "​",
            "style": "IPY_MODEL_e2461b8e4def4695a7ce42eaf47da742",
            "value": " 14.1M/14.1M [00:06&lt;00:00, 2.36MB/s]"
          }
        },
        "c3e7d8431ac04031bc4228beebef216f": {
          "model_module": "@jupyter-widgets/base",
          "model_name": "LayoutModel",
          "model_module_version": "1.2.0",
          "state": {
            "_model_module": "@jupyter-widgets/base",
            "_model_module_version": "1.2.0",
            "_model_name": "LayoutModel",
            "_view_count": null,
            "_view_module": "@jupyter-widgets/base",
            "_view_module_version": "1.2.0",
            "_view_name": "LayoutView",
            "align_content": null,
            "align_items": null,
            "align_self": null,
            "border": null,
            "bottom": null,
            "display": null,
            "flex": null,
            "flex_flow": null,
            "grid_area": null,
            "grid_auto_columns": null,
            "grid_auto_flow": null,
            "grid_auto_rows": null,
            "grid_column": null,
            "grid_gap": null,
            "grid_row": null,
            "grid_template_areas": null,
            "grid_template_columns": null,
            "grid_template_rows": null,
            "height": null,
            "justify_content": null,
            "justify_items": null,
            "left": null,
            "margin": null,
            "max_height": null,
            "max_width": null,
            "min_height": null,
            "min_width": null,
            "object_fit": null,
            "object_position": null,
            "order": null,
            "overflow": null,
            "overflow_x": null,
            "overflow_y": null,
            "padding": null,
            "right": null,
            "top": null,
            "visibility": null,
            "width": null
          }
        },
        "5f6a5d97cab8454081a0d1a702cf66e7": {
          "model_module": "@jupyter-widgets/base",
          "model_name": "LayoutModel",
          "model_module_version": "1.2.0",
          "state": {
            "_model_module": "@jupyter-widgets/base",
            "_model_module_version": "1.2.0",
            "_model_name": "LayoutModel",
            "_view_count": null,
            "_view_module": "@jupyter-widgets/base",
            "_view_module_version": "1.2.0",
            "_view_name": "LayoutView",
            "align_content": null,
            "align_items": null,
            "align_self": null,
            "border": null,
            "bottom": null,
            "display": null,
            "flex": null,
            "flex_flow": null,
            "grid_area": null,
            "grid_auto_columns": null,
            "grid_auto_flow": null,
            "grid_auto_rows": null,
            "grid_column": null,
            "grid_gap": null,
            "grid_row": null,
            "grid_template_areas": null,
            "grid_template_columns": null,
            "grid_template_rows": null,
            "height": null,
            "justify_content": null,
            "justify_items": null,
            "left": null,
            "margin": null,
            "max_height": null,
            "max_width": null,
            "min_height": null,
            "min_width": null,
            "object_fit": null,
            "object_position": null,
            "order": null,
            "overflow": null,
            "overflow_x": null,
            "overflow_y": null,
            "padding": null,
            "right": null,
            "top": null,
            "visibility": null,
            "width": null
          }
        },
        "d0bbeeedfa4945239b2d0d28ae599c32": {
          "model_module": "@jupyter-widgets/controls",
          "model_name": "DescriptionStyleModel",
          "model_module_version": "1.5.0",
          "state": {
            "_model_module": "@jupyter-widgets/controls",
            "_model_module_version": "1.5.0",
            "_model_name": "DescriptionStyleModel",
            "_view_count": null,
            "_view_module": "@jupyter-widgets/base",
            "_view_module_version": "1.2.0",
            "_view_name": "StyleView",
            "description_width": ""
          }
        },
        "68f92cb4d9a1419791db6857a5d9da06": {
          "model_module": "@jupyter-widgets/base",
          "model_name": "LayoutModel",
          "model_module_version": "1.2.0",
          "state": {
            "_model_module": "@jupyter-widgets/base",
            "_model_module_version": "1.2.0",
            "_model_name": "LayoutModel",
            "_view_count": null,
            "_view_module": "@jupyter-widgets/base",
            "_view_module_version": "1.2.0",
            "_view_name": "LayoutView",
            "align_content": null,
            "align_items": null,
            "align_self": null,
            "border": null,
            "bottom": null,
            "display": null,
            "flex": null,
            "flex_flow": null,
            "grid_area": null,
            "grid_auto_columns": null,
            "grid_auto_flow": null,
            "grid_auto_rows": null,
            "grid_column": null,
            "grid_gap": null,
            "grid_row": null,
            "grid_template_areas": null,
            "grid_template_columns": null,
            "grid_template_rows": null,
            "height": null,
            "justify_content": null,
            "justify_items": null,
            "left": null,
            "margin": null,
            "max_height": null,
            "max_width": null,
            "min_height": null,
            "min_width": null,
            "object_fit": null,
            "object_position": null,
            "order": null,
            "overflow": null,
            "overflow_x": null,
            "overflow_y": null,
            "padding": null,
            "right": null,
            "top": null,
            "visibility": null,
            "width": null
          }
        },
        "203c25148b46464ab232f74ec1d769b4": {
          "model_module": "@jupyter-widgets/controls",
          "model_name": "ProgressStyleModel",
          "model_module_version": "1.5.0",
          "state": {
            "_model_module": "@jupyter-widgets/controls",
            "_model_module_version": "1.5.0",
            "_model_name": "ProgressStyleModel",
            "_view_count": null,
            "_view_module": "@jupyter-widgets/base",
            "_view_module_version": "1.2.0",
            "_view_name": "StyleView",
            "bar_color": null,
            "description_width": ""
          }
        },
        "fa5bc888b3c444b0b013bec483e7d502": {
          "model_module": "@jupyter-widgets/base",
          "model_name": "LayoutModel",
          "model_module_version": "1.2.0",
          "state": {
            "_model_module": "@jupyter-widgets/base",
            "_model_module_version": "1.2.0",
            "_model_name": "LayoutModel",
            "_view_count": null,
            "_view_module": "@jupyter-widgets/base",
            "_view_module_version": "1.2.0",
            "_view_name": "LayoutView",
            "align_content": null,
            "align_items": null,
            "align_self": null,
            "border": null,
            "bottom": null,
            "display": null,
            "flex": null,
            "flex_flow": null,
            "grid_area": null,
            "grid_auto_columns": null,
            "grid_auto_flow": null,
            "grid_auto_rows": null,
            "grid_column": null,
            "grid_gap": null,
            "grid_row": null,
            "grid_template_areas": null,
            "grid_template_columns": null,
            "grid_template_rows": null,
            "height": null,
            "justify_content": null,
            "justify_items": null,
            "left": null,
            "margin": null,
            "max_height": null,
            "max_width": null,
            "min_height": null,
            "min_width": null,
            "object_fit": null,
            "object_position": null,
            "order": null,
            "overflow": null,
            "overflow_x": null,
            "overflow_y": null,
            "padding": null,
            "right": null,
            "top": null,
            "visibility": null,
            "width": null
          }
        },
        "e2461b8e4def4695a7ce42eaf47da742": {
          "model_module": "@jupyter-widgets/controls",
          "model_name": "DescriptionStyleModel",
          "model_module_version": "1.5.0",
          "state": {
            "_model_module": "@jupyter-widgets/controls",
            "_model_module_version": "1.5.0",
            "_model_name": "DescriptionStyleModel",
            "_view_count": null,
            "_view_module": "@jupyter-widgets/base",
            "_view_module_version": "1.2.0",
            "_view_name": "StyleView",
            "description_width": ""
          }
        }
      }
    },
    "accelerator": "GPU"
  },
  "cells": [
    {
      "cell_type": "markdown",
      "metadata": {
        "id": "view-in-github",
        "colab_type": "text"
      },
      "source": [
        "<a href=\"https://colab.research.google.com/github/joangog/object-detection/blob/main/mask_training.ipynb\" target=\"_parent\"><img src=\"https://colab.research.google.com/assets/colab-badge.svg\" alt=\"Open In Colab\"/></a>"
      ]
    },
    {
      "cell_type": "markdown",
      "metadata": {
        "id": "eIjcsMslUx9m"
      },
      "source": [
        "## Model training on mask dataset\n",
        "\n",
        "The following models will be trained with their respective hyperparameters:\n",
        "\n",
        "MASKD:\n",
        "\n",
        "| Model | Backbone | Batch Size | Epochs | LR Scheduler | Learning Rate | Optimizer | Momentum | Weight Decay |\n",
        "| --- | --- | --- | --- | --- | --- | --- | --- | --- |\n",
        "| YOLOv5s |  Custom | 16 | 100 | CycleLR | 0.01 | SGD | 0.937 | 0.0005\n",
        "| YOLOv5s |  Custom | 16 | 100 | CycleLR | 0.001 | Adam | 0.937 | 0.0005\n",
        "| YOLOv5m |  Custom | 16 | 100 | CycleLR | 0.01 | SGD | 0.937 | 0.0005\n",
        "| YOLOv5l |  Custom | 16 |  |  |  |\n",
        "| YOLOv3-tiny |  Darknet53 | 16 | 100 | CycleLR | 0.01 | SGD | 0.937 | 0.0005\n",
        "\n",
        "\n",
        "PWMFD:\n",
        "\n",
        "| Model | Backbone | Batch Size | Epochs | LR Scheduler | Learning Rate | Optimizer | Momentum | Weight Decay |\n",
        "| --- | --- | --- | --- | --- | --- | --- | --- | --- |\n",
        "| YOLOv5s |  Custom | 32 | 100 | CycleLR | 0.01 | SGD | 0.937 | 0.0005\n",
        "| YOLOv5s |  Custom | 32 | 100 | CycleLR | 0.001 | Adam | 0.937 | 0.0005\n",
        "| YOLOv5m |  Custom | 32 | 100 | CycleLR | 0.01 | SGD | 0.937 | 0.0005\n",
        "| YOLOv5l |  Custom | 32 |  |  |  |\n",
        "| YOLOv3-tiny |  Darknet53 | 32 | 100 | CycleLR | 0.01 | SGD | 0.937 | 0.0005\n",
        "\n",
        "<br>\n",
        "\n",
        "The following datasets can be used:\n",
        "*   MASKD (AICrowd)\n",
        "*   Properly Wearing Masked Detect Dataset \n",
        "\n",
        "<br>\n",
        "\n",
        "**Note: GPU Runtime needed (hosted or local)**\n",
        "\n",
        "*Example GPU: Tesla K80, 460.32.03, 11441 MiB*\n",
        "\n",
        "\n"
      ]
    },
    {
      "cell_type": "code",
      "metadata": {
        "colab": {
          "base_uri": "https://localhost:8080/"
        },
        "id": "4X0kW-fHdG9R",
        "outputId": "8213a617-a142-4d94-a21b-2e26e05ee139"
      },
      "source": [
        "# Show system specs\n",
        "!nvidia-smi --query-gpu=gpu_name,driver_version,memory.total --format=csv"
      ],
      "execution_count": 1,
      "outputs": [
        {
          "output_type": "stream",
          "name": "stdout",
          "text": [
            "name, driver_version, memory.total [MiB]\r\n",
            "GeForce GTX 960, 460.91.03, 4036 MiB\r\n"
          ]
        }
      ]
    },
    {
      "cell_type": "markdown",
      "metadata": {
        "id": "NVojvH9i8ua0"
      },
      "source": [
        "### Initialization\n"
      ]
    },
    {
      "cell_type": "code",
      "metadata": {
        "id": "lZHe4nxx8raL"
      },
      "source": [
        "# Parameters\n",
        "\n",
        "dataset_name = 'PWMFD'  # 'MASKD' or 'PWMFD'\n",
        "\n",
        "img_res = 640  # Image resolution (for YOLO models)\n",
        "num_workers = 2  #  Data loader workers\n",
        "batch_size = 8  # Data loader batch size (both training and inference)\n",
        "\n",
        "num_epochs = 50  # Epochs\n",
        "\n",
        "lr = 0.01  # Learning rate (initial)\n",
        "step_size = 3  # Learning rate step size (only for StepLR, YOLO uses CycleLR)\n",
        "gamma = 0.1  # Learning rate decay (only for StepLR)\n",
        "\n",
        "\n",
        "optimizer_type = 'sgd'  # 'sgd' or 'adam'\n",
        "momentum = 0.937  # Optimizer momentum (only for SGD optimizer)\n",
        "weight_decay = 0.0005  # Optimizer weight decay\n",
        "\n",
        "# Data Augmentation Parameters\n",
        "# mb_prob  # Motion blur probability\n",
        "# mb_size_range = (5,50)  # Motion blur kernel size range\n",
        "\n",
        "# Directories\n",
        "\n",
        "load_ckpt = False  # Flag for whether to load existing checkpoint or not\n",
        "load_ckpt_path = '/content/drive/MyDrive/object-detection-checkpoints/PWMFD_yolov5s_1633436572_run/weights/last.pt'  # Loaded weights path\n",
        "\n",
        "save_ckpt_dir = '/home/ioanna/object-detection-checkpoints' #/content/drive/MyDrive/object-detection-checkpoints'  # Model save root directory (used when load_ckpt is False)\n",
        "\n",
        "import os\n",
        "root_dir = os.getcwd()  # Root dir of project\n",
        "dataset_dir = os.path.join(root_dir,f'dataset_{dataset_name}')\n",
        "\n",
        "img_dir = os.path.join(dataset_dir,'images')\n",
        "val_img_dir = os.path.join(img_dir,'val_images')\n",
        "train_img_dir = os.path.join(img_dir,'train_images')\n",
        "\n",
        "label_dir = os.path.join(dataset_dir,'labels')\n",
        "val_label_dir = os.path.join(label_dir,'val_images')\n",
        "train_label_dir = os.path.join(label_dir,'train_images')\n",
        "\n",
        "ann_dir = os.path.join(dataset_dir,'annotations')\n"
      ],
      "execution_count": 12,
      "outputs": []
    },
    {
      "cell_type": "markdown",
      "metadata": {
        "id": "l9IQxr2jWaui"
      },
      "source": [
        "### Get requirements\n",
        "*Note: Restart runtime after installation*"
      ]
    },
    {
      "cell_type": "code",
      "metadata": {
        "id": "m-XSXNc61vV3",
        "colab": {
          "base_uri": "https://localhost:8080/"
        },
        "outputId": "a713aaf4-1e15-467a-bb83-47b6dd55b0d4"
      },
      "source": [
        "# Install Yolov5\n",
        "!cd {root_dir}\n",
        "!git clone https://github.com/ultralytics/yolov5\n",
        "!pip install -r {os.path.join(root_dir,'yolov5','requirements.txt')}"
      ],
      "execution_count": null,
      "outputs": [
        {
          "output_type": "stream",
          "name": "stdout",
          "text": [
            "fatal: destination path 'yolov5' already exists and is not an empty directory.\n",
            "Requirement already satisfied: matplotlib>=3.2.2 in ./anaconda3/lib/python3.8/site-packages (from -r /home/ioanna/yolov5/requirements.txt (line 4)) (3.3.2)\n",
            "Requirement already satisfied: numpy>=1.18.5 in ./anaconda3/lib/python3.8/site-packages (from -r /home/ioanna/yolov5/requirements.txt (line 5)) (1.19.2)\n",
            "Requirement already satisfied: opencv-python>=4.1.2 in ./anaconda3/lib/python3.8/site-packages (from -r /home/ioanna/yolov5/requirements.txt (line 6)) (4.5.3.56)\n",
            "Requirement already satisfied: Pillow>=7.1.2 in ./anaconda3/lib/python3.8/site-packages (from -r /home/ioanna/yolov5/requirements.txt (line 7)) (8.0.1)\n",
            "Requirement already satisfied: PyYAML>=5.3.1 in ./anaconda3/lib/python3.8/site-packages (from -r /home/ioanna/yolov5/requirements.txt (line 8)) (5.3.1)\n",
            "Requirement already satisfied: scipy>=1.4.1 in ./anaconda3/lib/python3.8/site-packages (from -r /home/ioanna/yolov5/requirements.txt (line 9)) (1.5.2)\n",
            "Requirement already satisfied: torch>=1.7.0 in ./anaconda3/lib/python3.8/site-packages (from -r /home/ioanna/yolov5/requirements.txt (line 10)) (1.9.1)\n",
            "Requirement already satisfied: torchvision>=0.8.1 in ./anaconda3/lib/python3.8/site-packages (from -r /home/ioanna/yolov5/requirements.txt (line 11)) (0.10.1)\n",
            "Requirement already satisfied: tqdm>=4.41.0 in ./anaconda3/lib/python3.8/site-packages (from -r /home/ioanna/yolov5/requirements.txt (line 12)) (4.50.2)\n",
            "Requirement already satisfied: tensorboard>=2.4.1 in ./anaconda3/lib/python3.8/site-packages (from -r /home/ioanna/yolov5/requirements.txt (line 15)) (2.6.0)\n",
            "Requirement already satisfied: pandas in ./anaconda3/lib/python3.8/site-packages (from -r /home/ioanna/yolov5/requirements.txt (line 19)) (1.1.3)\n",
            "Requirement already satisfied: seaborn>=0.11.0 in ./anaconda3/lib/python3.8/site-packages (from -r /home/ioanna/yolov5/requirements.txt (line 20)) (0.11.0)\n",
            "Requirement already satisfied: thop in ./anaconda3/lib/python3.8/site-packages (from -r /home/ioanna/yolov5/requirements.txt (line 35)) (0.0.31.post2005241907)\n",
            "Requirement already satisfied: kiwisolver>=1.0.1 in ./anaconda3/lib/python3.8/site-packages (from matplotlib>=3.2.2->-r /home/ioanna/yolov5/requirements.txt (line 4)) (1.3.0)\n",
            "Requirement already satisfied: pyparsing!=2.0.4,!=2.1.2,!=2.1.6,>=2.0.3 in ./anaconda3/lib/python3.8/site-packages (from matplotlib>=3.2.2->-r /home/ioanna/yolov5/requirements.txt (line 4)) (2.4.7)\n",
            "Requirement already satisfied: cycler>=0.10 in ./anaconda3/lib/python3.8/site-packages (from matplotlib>=3.2.2->-r /home/ioanna/yolov5/requirements.txt (line 4)) (0.10.0)\n",
            "Requirement already satisfied: certifi>=2020.06.20 in ./anaconda3/lib/python3.8/site-packages (from matplotlib>=3.2.2->-r /home/ioanna/yolov5/requirements.txt (line 4)) (2020.6.20)\n",
            "Requirement already satisfied: python-dateutil>=2.1 in ./anaconda3/lib/python3.8/site-packages (from matplotlib>=3.2.2->-r /home/ioanna/yolov5/requirements.txt (line 4)) (2.8.1)\n",
            "Requirement already satisfied: typing-extensions in ./anaconda3/lib/python3.8/site-packages (from torch>=1.7.0->-r /home/ioanna/yolov5/requirements.txt (line 10)) (3.7.4.3)\n",
            "Requirement already satisfied: tensorboard-data-server<0.7.0,>=0.6.0 in ./anaconda3/lib/python3.8/site-packages (from tensorboard>=2.4.1->-r /home/ioanna/yolov5/requirements.txt (line 15)) (0.6.1)\n",
            "Requirement already satisfied: markdown>=2.6.8 in ./anaconda3/lib/python3.8/site-packages (from tensorboard>=2.4.1->-r /home/ioanna/yolov5/requirements.txt (line 15)) (3.3.4)\n",
            "Requirement already satisfied: setuptools>=41.0.0 in ./anaconda3/lib/python3.8/site-packages (from tensorboard>=2.4.1->-r /home/ioanna/yolov5/requirements.txt (line 15)) (50.3.1.post20201107)\n",
            "Requirement already satisfied: grpcio>=1.24.3 in ./anaconda3/lib/python3.8/site-packages (from tensorboard>=2.4.1->-r /home/ioanna/yolov5/requirements.txt (line 15)) (1.33.2)\n",
            "Requirement already satisfied: tensorboard-plugin-wit>=1.6.0 in ./anaconda3/lib/python3.8/site-packages (from tensorboard>=2.4.1->-r /home/ioanna/yolov5/requirements.txt (line 15)) (1.6.0)\n",
            "Requirement already satisfied: google-auth-oauthlib<0.5,>=0.4.1 in ./anaconda3/lib/python3.8/site-packages (from tensorboard>=2.4.1->-r /home/ioanna/yolov5/requirements.txt (line 15)) (0.4.2)\n",
            "Requirement already satisfied: google-auth<2,>=1.6.3 in ./anaconda3/lib/python3.8/site-packages (from tensorboard>=2.4.1->-r /home/ioanna/yolov5/requirements.txt (line 15)) (1.28.0)\n",
            "Requirement already satisfied: protobuf>=3.6.0 in ./anaconda3/lib/python3.8/site-packages (from tensorboard>=2.4.1->-r /home/ioanna/yolov5/requirements.txt (line 15)) (3.14.0)\n",
            "Requirement already satisfied: requests<3,>=2.21.0 in ./anaconda3/lib/python3.8/site-packages (from tensorboard>=2.4.1->-r /home/ioanna/yolov5/requirements.txt (line 15)) (2.24.0)\n",
            "Requirement already satisfied: werkzeug>=0.11.15 in ./anaconda3/lib/python3.8/site-packages (from tensorboard>=2.4.1->-r /home/ioanna/yolov5/requirements.txt (line 15)) (1.0.1)\n",
            "Requirement already satisfied: absl-py>=0.4 in ./anaconda3/lib/python3.8/site-packages (from tensorboard>=2.4.1->-r /home/ioanna/yolov5/requirements.txt (line 15)) (0.12.0)\n",
            "Requirement already satisfied: wheel>=0.26 in ./anaconda3/lib/python3.8/site-packages (from tensorboard>=2.4.1->-r /home/ioanna/yolov5/requirements.txt (line 15)) (0.35.1)\n",
            "Requirement already satisfied: pytz>=2017.2 in ./anaconda3/lib/python3.8/site-packages (from pandas->-r /home/ioanna/yolov5/requirements.txt (line 19)) (2020.1)\n",
            "Requirement already satisfied: six in ./anaconda3/lib/python3.8/site-packages (from cycler>=0.10->matplotlib>=3.2.2->-r /home/ioanna/yolov5/requirements.txt (line 4)) (1.15.0)\n",
            "Requirement already satisfied: requests-oauthlib>=0.7.0 in ./anaconda3/lib/python3.8/site-packages (from google-auth-oauthlib<0.5,>=0.4.1->tensorboard>=2.4.1->-r /home/ioanna/yolov5/requirements.txt (line 15)) (1.3.0)\n",
            "Requirement already satisfied: cachetools<5.0,>=2.0.0 in ./anaconda3/lib/python3.8/site-packages (from google-auth<2,>=1.6.3->tensorboard>=2.4.1->-r /home/ioanna/yolov5/requirements.txt (line 15)) (4.2.1)\n",
            "Requirement already satisfied: pyasn1-modules>=0.2.1 in ./anaconda3/lib/python3.8/site-packages (from google-auth<2,>=1.6.3->tensorboard>=2.4.1->-r /home/ioanna/yolov5/requirements.txt (line 15)) (0.2.8)\n",
            "Requirement already satisfied: rsa<5,>=3.1.4; python_version >= \"3.6\" in ./anaconda3/lib/python3.8/site-packages (from google-auth<2,>=1.6.3->tensorboard>=2.4.1->-r /home/ioanna/yolov5/requirements.txt (line 15)) (4.7.2)\n",
            "Requirement already satisfied: urllib3!=1.25.0,!=1.25.1,<1.26,>=1.21.1 in ./anaconda3/lib/python3.8/site-packages (from requests<3,>=2.21.0->tensorboard>=2.4.1->-r /home/ioanna/yolov5/requirements.txt (line 15)) (1.25.11)\n",
            "Requirement already satisfied: idna<3,>=2.5 in ./anaconda3/lib/python3.8/site-packages (from requests<3,>=2.21.0->tensorboard>=2.4.1->-r /home/ioanna/yolov5/requirements.txt (line 15)) (2.10)\n",
            "Requirement already satisfied: chardet<4,>=3.0.2 in ./anaconda3/lib/python3.8/site-packages (from requests<3,>=2.21.0->tensorboard>=2.4.1->-r /home/ioanna/yolov5/requirements.txt (line 15)) (3.0.4)\n",
            "Requirement already satisfied: oauthlib>=3.0.0 in ./anaconda3/lib/python3.8/site-packages (from requests-oauthlib>=0.7.0->google-auth-oauthlib<0.5,>=0.4.1->tensorboard>=2.4.1->-r /home/ioanna/yolov5/requirements.txt (line 15)) (3.1.0)\n",
            "Requirement already satisfied: pyasn1<0.5.0,>=0.4.6 in ./anaconda3/lib/python3.8/site-packages (from pyasn1-modules>=0.2.1->google-auth<2,>=1.6.3->tensorboard>=2.4.1->-r /home/ioanna/yolov5/requirements.txt (line 15)) (0.4.8)\n"
          ]
        }
      ]
    },
    {
      "cell_type": "code",
      "metadata": {
        "id": "EYO5_FOUR1D_",
        "colab": {
          "base_uri": "https://localhost:8080/"
        },
        "outputId": "fb88b8ce-0269-479f-d20e-e1171a838b82"
      },
      "source": [
        "# Install Yolov3\n",
        "!cd {root_dir}\n",
        "!git clone https://github.com/ultralytics/yolov3\n",
        "!pip install -r {os.path.join(root_dir,'yolov3','requirements.txt')}"
      ],
      "execution_count": null,
      "outputs": [
        {
          "output_type": "stream",
          "name": "stdout",
          "text": [
            "fatal: destination path 'yolov3' already exists and is not an empty directory.\n",
            "Requirement already satisfied: matplotlib>=3.2.2 in ./anaconda3/lib/python3.8/site-packages (from -r /home/ioanna/yolov3/requirements.txt (line 4)) (3.3.2)\n",
            "Requirement already satisfied: numpy>=1.18.5 in ./anaconda3/lib/python3.8/site-packages (from -r /home/ioanna/yolov3/requirements.txt (line 5)) (1.19.2)\n",
            "Requirement already satisfied: opencv-python>=4.1.2 in ./anaconda3/lib/python3.8/site-packages (from -r /home/ioanna/yolov3/requirements.txt (line 6)) (4.5.3.56)\n",
            "Requirement already satisfied: Pillow in ./anaconda3/lib/python3.8/site-packages (from -r /home/ioanna/yolov3/requirements.txt (line 7)) (8.0.1)\n",
            "Requirement already satisfied: PyYAML>=5.3.1 in ./anaconda3/lib/python3.8/site-packages (from -r /home/ioanna/yolov3/requirements.txt (line 8)) (5.3.1)\n",
            "Requirement already satisfied: scipy>=1.4.1 in ./anaconda3/lib/python3.8/site-packages (from -r /home/ioanna/yolov3/requirements.txt (line 9)) (1.5.2)\n",
            "Requirement already satisfied: torch>=1.7.0 in ./anaconda3/lib/python3.8/site-packages (from -r /home/ioanna/yolov3/requirements.txt (line 10)) (1.9.1)\n",
            "Requirement already satisfied: torchvision>=0.8.1 in ./anaconda3/lib/python3.8/site-packages (from -r /home/ioanna/yolov3/requirements.txt (line 11)) (0.10.1)\n",
            "Requirement already satisfied: tqdm>=4.41.0 in ./anaconda3/lib/python3.8/site-packages (from -r /home/ioanna/yolov3/requirements.txt (line 12)) (4.50.2)\n",
            "Requirement already satisfied: tensorboard>=2.4.1 in ./anaconda3/lib/python3.8/site-packages (from -r /home/ioanna/yolov3/requirements.txt (line 15)) (2.6.0)\n",
            "Requirement already satisfied: seaborn>=0.11.0 in ./anaconda3/lib/python3.8/site-packages (from -r /home/ioanna/yolov3/requirements.txt (line 19)) (0.11.0)\n",
            "Requirement already satisfied: pandas in ./anaconda3/lib/python3.8/site-packages (from -r /home/ioanna/yolov3/requirements.txt (line 20)) (1.1.3)\n",
            "Requirement already satisfied: pycocotools>=2.0 in ./anaconda3/lib/python3.8/site-packages (from -r /home/ioanna/yolov3/requirements.txt (line 29)) (2.0.2)\n",
            "Requirement already satisfied: thop in ./anaconda3/lib/python3.8/site-packages (from -r /home/ioanna/yolov3/requirements.txt (line 30)) (0.0.31.post2005241907)\n",
            "Requirement already satisfied: python-dateutil>=2.1 in ./anaconda3/lib/python3.8/site-packages (from matplotlib>=3.2.2->-r /home/ioanna/yolov3/requirements.txt (line 4)) (2.8.1)\n",
            "Requirement already satisfied: cycler>=0.10 in ./anaconda3/lib/python3.8/site-packages (from matplotlib>=3.2.2->-r /home/ioanna/yolov3/requirements.txt (line 4)) (0.10.0)\n",
            "Requirement already satisfied: certifi>=2020.06.20 in ./anaconda3/lib/python3.8/site-packages (from matplotlib>=3.2.2->-r /home/ioanna/yolov3/requirements.txt (line 4)) (2020.6.20)\n",
            "Requirement already satisfied: kiwisolver>=1.0.1 in ./anaconda3/lib/python3.8/site-packages (from matplotlib>=3.2.2->-r /home/ioanna/yolov3/requirements.txt (line 4)) (1.3.0)\n",
            "Requirement already satisfied: pyparsing!=2.0.4,!=2.1.2,!=2.1.6,>=2.0.3 in ./anaconda3/lib/python3.8/site-packages (from matplotlib>=3.2.2->-r /home/ioanna/yolov3/requirements.txt (line 4)) (2.4.7)\n",
            "Requirement already satisfied: typing-extensions in ./anaconda3/lib/python3.8/site-packages (from torch>=1.7.0->-r /home/ioanna/yolov3/requirements.txt (line 10)) (3.7.4.3)\n",
            "Requirement already satisfied: google-auth<2,>=1.6.3 in ./anaconda3/lib/python3.8/site-packages (from tensorboard>=2.4.1->-r /home/ioanna/yolov3/requirements.txt (line 15)) (1.28.0)\n",
            "Requirement already satisfied: markdown>=2.6.8 in ./anaconda3/lib/python3.8/site-packages (from tensorboard>=2.4.1->-r /home/ioanna/yolov3/requirements.txt (line 15)) (3.3.4)\n",
            "Requirement already satisfied: tensorboard-data-server<0.7.0,>=0.6.0 in ./anaconda3/lib/python3.8/site-packages (from tensorboard>=2.4.1->-r /home/ioanna/yolov3/requirements.txt (line 15)) (0.6.1)\n",
            "Requirement already satisfied: absl-py>=0.4 in ./anaconda3/lib/python3.8/site-packages (from tensorboard>=2.4.1->-r /home/ioanna/yolov3/requirements.txt (line 15)) (0.12.0)\n",
            "Requirement already satisfied: requests<3,>=2.21.0 in ./anaconda3/lib/python3.8/site-packages (from tensorboard>=2.4.1->-r /home/ioanna/yolov3/requirements.txt (line 15)) (2.24.0)\n",
            "Requirement already satisfied: setuptools>=41.0.0 in ./anaconda3/lib/python3.8/site-packages (from tensorboard>=2.4.1->-r /home/ioanna/yolov3/requirements.txt (line 15)) (50.3.1.post20201107)\n",
            "Requirement already satisfied: werkzeug>=0.11.15 in ./anaconda3/lib/python3.8/site-packages (from tensorboard>=2.4.1->-r /home/ioanna/yolov3/requirements.txt (line 15)) (1.0.1)\n",
            "Requirement already satisfied: tensorboard-plugin-wit>=1.6.0 in ./anaconda3/lib/python3.8/site-packages (from tensorboard>=2.4.1->-r /home/ioanna/yolov3/requirements.txt (line 15)) (1.6.0)\n",
            "Requirement already satisfied: protobuf>=3.6.0 in ./anaconda3/lib/python3.8/site-packages (from tensorboard>=2.4.1->-r /home/ioanna/yolov3/requirements.txt (line 15)) (3.14.0)\n",
            "Requirement already satisfied: google-auth-oauthlib<0.5,>=0.4.1 in ./anaconda3/lib/python3.8/site-packages (from tensorboard>=2.4.1->-r /home/ioanna/yolov3/requirements.txt (line 15)) (0.4.2)\n",
            "Requirement already satisfied: grpcio>=1.24.3 in ./anaconda3/lib/python3.8/site-packages (from tensorboard>=2.4.1->-r /home/ioanna/yolov3/requirements.txt (line 15)) (1.33.2)\n",
            "Requirement already satisfied: wheel>=0.26 in ./anaconda3/lib/python3.8/site-packages (from tensorboard>=2.4.1->-r /home/ioanna/yolov3/requirements.txt (line 15)) (0.35.1)\n",
            "Requirement already satisfied: pytz>=2017.2 in ./anaconda3/lib/python3.8/site-packages (from pandas->-r /home/ioanna/yolov3/requirements.txt (line 20)) (2020.1)\n",
            "Requirement already satisfied: cython>=0.27.3 in ./anaconda3/lib/python3.8/site-packages (from pycocotools>=2.0->-r /home/ioanna/yolov3/requirements.txt (line 29)) (0.29.21)\n",
            "Requirement already satisfied: six>=1.5 in ./anaconda3/lib/python3.8/site-packages (from python-dateutil>=2.1->matplotlib>=3.2.2->-r /home/ioanna/yolov3/requirements.txt (line 4)) (1.15.0)\n",
            "Requirement already satisfied: rsa<5,>=3.1.4; python_version >= \"3.6\" in ./anaconda3/lib/python3.8/site-packages (from google-auth<2,>=1.6.3->tensorboard>=2.4.1->-r /home/ioanna/yolov3/requirements.txt (line 15)) (4.7.2)\n",
            "Requirement already satisfied: cachetools<5.0,>=2.0.0 in ./anaconda3/lib/python3.8/site-packages (from google-auth<2,>=1.6.3->tensorboard>=2.4.1->-r /home/ioanna/yolov3/requirements.txt (line 15)) (4.2.1)\n",
            "Requirement already satisfied: pyasn1-modules>=0.2.1 in ./anaconda3/lib/python3.8/site-packages (from google-auth<2,>=1.6.3->tensorboard>=2.4.1->-r /home/ioanna/yolov3/requirements.txt (line 15)) (0.2.8)\n",
            "Requirement already satisfied: chardet<4,>=3.0.2 in ./anaconda3/lib/python3.8/site-packages (from requests<3,>=2.21.0->tensorboard>=2.4.1->-r /home/ioanna/yolov3/requirements.txt (line 15)) (3.0.4)\n",
            "Requirement already satisfied: urllib3!=1.25.0,!=1.25.1,<1.26,>=1.21.1 in ./anaconda3/lib/python3.8/site-packages (from requests<3,>=2.21.0->tensorboard>=2.4.1->-r /home/ioanna/yolov3/requirements.txt (line 15)) (1.25.11)\n",
            "Requirement already satisfied: idna<3,>=2.5 in ./anaconda3/lib/python3.8/site-packages (from requests<3,>=2.21.0->tensorboard>=2.4.1->-r /home/ioanna/yolov3/requirements.txt (line 15)) (2.10)\n",
            "Requirement already satisfied: requests-oauthlib>=0.7.0 in ./anaconda3/lib/python3.8/site-packages (from google-auth-oauthlib<0.5,>=0.4.1->tensorboard>=2.4.1->-r /home/ioanna/yolov3/requirements.txt (line 15)) (1.3.0)\n",
            "Requirement already satisfied: pyasn1>=0.1.3 in ./anaconda3/lib/python3.8/site-packages (from rsa<5,>=3.1.4; python_version >= \"3.6\"->google-auth<2,>=1.6.3->tensorboard>=2.4.1->-r /home/ioanna/yolov3/requirements.txt (line 15)) (0.4.8)\n",
            "Requirement already satisfied: oauthlib>=3.0.0 in ./anaconda3/lib/python3.8/site-packages (from requests-oauthlib>=0.7.0->google-auth-oauthlib<0.5,>=0.4.1->tensorboard>=2.4.1->-r /home/ioanna/yolov3/requirements.txt (line 15)) (3.1.0)\n"
          ]
        }
      ]
    },
    {
      "cell_type": "code",
      "metadata": {
        "colab": {
          "base_uri": "https://localhost:8080/"
        },
        "id": "SZ6TTWucuWo8",
        "outputId": "869933d5-22fe-418e-bf22-38e7d308f395"
      },
      "source": [
        "# Install unrar command\n",
        "from getpass import getpass\n",
        "password = getpass('Insert sudo password:')\n",
        "!echo {password} | sudo -S -k apt-get install unrar"
      ],
      "execution_count": null,
      "outputs": [
        {
          "output_type": "stream",
          "name": "stdout",
          "text": [
            "Insert sudo password:··········\n",
            "Reading package lists... Done\n",
            "Building dependency tree       \n",
            "Reading state information... Done\n",
            "unrar is already the newest version (1:5.5.8-1).\n",
            "The following packages were automatically installed and are no longer required:\n",
            "  cuda-command-line-tools-11-3 cuda-compiler-11-3 cuda-cudart-11-3\n",
            "  cuda-cudart-dev-11-3 cuda-cuobjdump-11-3 cuda-cupti-11-3 cuda-cupti-dev-11-3\n",
            "  cuda-cuxxfilt-11-3 cuda-documentation-11-3 cuda-driver-dev-11-3\n",
            "  cuda-gdb-11-3 cuda-libraries-11-3 cuda-libraries-dev-11-3 cuda-memcheck-11-3\n",
            "  cuda-nsight-11-3 cuda-nsight-compute-11-3 cuda-nsight-systems-11-3\n",
            "  cuda-nvcc-11-3 cuda-nvdisasm-11-3 cuda-nvml-dev-11-3 cuda-nvprof-11-3\n",
            "  cuda-nvprune-11-3 cuda-nvrtc-11-3 cuda-nvrtc-dev-11-3 cuda-nvtx-11-3\n",
            "  cuda-nvvp-11-3 cuda-samples-11-3 cuda-sanitizer-11-3 cuda-thrust-11-3\n",
            "  cuda-toolkit-11-3 cuda-toolkit-11-config-common cuda-toolkit-config-common\n",
            "  cuda-tools-11-3 cuda-visual-tools-11-3 g++-6 gir1.2-geocodeglib-1.0\n",
            "  libaccinj64-9.1 libcublas-11-3 libcublas-dev-11-3 libcublas9.1 libcudart9.1\n",
            "  libcufft-11-3 libcufft-dev-11-3 libcufft9.1 libcufftw9.1 libcuinj64-9.1\n",
            "  libcurand-11-3 libcurand-dev-11-3 libcurand9.1 libcusolver-11-3\n",
            "  libcusolver-dev-11-3 libcusolver9.1 libcusparse-11-3 libcusparse-dev-11-3\n",
            "  libcusparse9.1 libdevmapper1.02.1:i386 libdrm-dev libfwup1 libgl1-mesa-dev\n",
            "  libgles1 libglvnd-core-dev libglvnd-dev libllvm9 libnpp-11-3 libnpp-dev-11-3\n",
            "  libnppc9.1 libnppial9.1 libnppicc9.1 libnppicom9.1 libnppidei9.1 libnppif9.1\n",
            "  libnppig9.1 libnppim9.1 libnppist9.1 libnppisu9.1 libnppitc9.1 libnpps9.1\n",
            "  libnvblas9.1 libnvgraph9.1 libnvjpeg-11-3 libnvjpeg-dev-11-3 libnvrtc9.1\n",
            "  libnvtoolsext1 libnvvm3 libopengl0 libparted2:i386 libreadline7:i386\n",
            "  libstdc++-6-dev libthrust-dev libvdpau-dev libx11-xcb-dev libxcb-dri2-0-dev\n",
            "  libxcb-dri3-dev libxcb-glx0-dev libxcb-present-dev libxcb-randr0-dev\n",
            "  libxcb-render0-dev libxcb-shape0-dev libxcb-sync-dev libxcb-xfixes0-dev\n",
            "  libxdamage-dev libxext-dev libxfixes-dev libxshmfence-dev libxxf86vm-dev\n",
            "  linux-hwe-5.4-headers-5.4.0-73 linux-hwe-5.4-headers-5.4.0-74\n",
            "  mesa-common-dev nsight-compute-2021.1.0 nsight-systems-2021.1.3\n",
            "  ocl-icd-opencl-dev opencl-c-headers python3-click python3-colorama\n",
            "  python3-psutil x11proto-damage-dev x11proto-fixes-dev x11proto-xext-dev\n",
            "  x11proto-xf86vidmode-dev xbase-clients\n",
            "Use 'sudo apt autoremove' to remove them.\n",
            "0 upgraded, 0 newly installed, 0 to remove and 45 not upgraded.\n"
          ]
        }
      ]
    },
    {
      "cell_type": "code",
      "metadata": {
        "id": "9gWOqjlQQdaP",
        "colab": {
          "base_uri": "https://localhost:8080/"
        },
        "outputId": "42b48757-74cd-443c-a8f7-2460a0c8e0d4"
      },
      "source": [
        "# Clone asset files\n",
        "!cd {root_dir}\n",
        "!git clone https://github.com/joangog/object-detection-assets\n",
        "!mv -n {os.path.join(root_dir,'object-detection-assets','scripts')} ./\n",
        "!mv -n {os.path.join(root_dir,'object-detection-assets','config')} ./\n",
        "!mv -n {os.path.join(root_dir,'object-detection-assets','requirements.txt')} ./\n",
        "!rm -rf {os.path.join(root_dir,'object-detection-assets')}\n"
      ],
      "execution_count": 21,
      "outputs": [
        {
          "output_type": "stream",
          "name": "stdout",
          "text": [
            "Cloning into 'object-detection-assets'...\n",
            "remote: Enumerating objects: 125, done.\u001b[K\n",
            "remote: Counting objects: 100% (125/125), done.\u001b[K\n",
            "remote: Compressing objects: 100% (92/92), done.\u001b[K\n",
            "remote: Total 125 (delta 41), reused 103 (delta 22), pack-reused 0\u001b[K\n",
            "Receiving objects: 100% (125/125), 25.67 KiB | 3.67 MiB/s, done.\n",
            "Resolving deltas: 100% (41/41), done.\n"
          ]
        }
      ]
    },
    {
      "cell_type": "code",
      "metadata": {
        "id": "TVa0AxzKlSyv",
        "colab": {
          "base_uri": "https://localhost:8080/"
        },
        "outputId": "b63239a5-929f-470c-8504-3b10ccedd786"
      },
      "source": [
        "# Install packages\n",
        "!cd {root_dir}\n",
        "!pip install -r requirements.txt"
      ],
      "execution_count": null,
      "outputs": [
        {
          "output_type": "stream",
          "name": "stdout",
          "text": [
            "Requirement already satisfied: gdown in ./anaconda3/lib/python3.8/site-packages (from -r requirements.txt (line 1)) (4.0.1)\r\n",
            "Requirement already satisfied: numpy in ./anaconda3/lib/python3.8/site-packages (from -r requirements.txt (line 3)) (1.19.2)\r\n",
            "Requirement already satisfied: pandas in ./anaconda3/lib/python3.8/site-packages (from -r requirements.txt (line 4)) (1.1.3)\r\n",
            "Requirement already satisfied: IPython in ./anaconda3/lib/python3.8/site-packages (from -r requirements.txt (line 5)) (7.19.0)\n",
            "Requirement already satisfied: textwrap3 in ./anaconda3/lib/python3.8/site-packages (from -r requirements.txt (line 6)) (0.9.2)\n",
            "Requirement already satisfied: matplotlib in ./anaconda3/lib/python3.8/site-packages (from -r requirements.txt (line 8)) (3.3.2)\n",
            "Requirement already satisfied: torch in ./anaconda3/lib/python3.8/site-packages (from -r requirements.txt (line 10)) (1.9.1)\n",
            "Requirement already satisfied: torchvision in ./anaconda3/lib/python3.8/site-packages (from -r requirements.txt (line 11)) (0.10.1)\n",
            "Requirement already satisfied: pycocotools in ./anaconda3/lib/python3.8/site-packages (from -r requirements.txt (line 13)) (2.0.2)\n",
            "Requirement already satisfied: ptflops in ./anaconda3/lib/python3.8/site-packages (from -r requirements.txt (line 15)) (0.6.6)\n",
            "Requirement already satisfied: tqdm in ./anaconda3/lib/python3.8/site-packages (from gdown->-r requirements.txt (line 1)) (4.50.2)\n",
            "Requirement already satisfied: filelock in ./anaconda3/lib/python3.8/site-packages (from gdown->-r requirements.txt (line 1)) (3.0.12)\n",
            "Requirement already satisfied: six in ./anaconda3/lib/python3.8/site-packages (from gdown->-r requirements.txt (line 1)) (1.15.0)\n",
            "Requirement already satisfied: requests[socks]>=2.12.0 in ./anaconda3/lib/python3.8/site-packages (from gdown->-r requirements.txt (line 1)) (2.24.0)\n",
            "Requirement already satisfied: python-dateutil>=2.7.3 in ./anaconda3/lib/python3.8/site-packages (from pandas->-r requirements.txt (line 4)) (2.8.1)\n",
            "Requirement already satisfied: pytz>=2017.2 in ./anaconda3/lib/python3.8/site-packages (from pandas->-r requirements.txt (line 4)) (2020.1)\n",
            "Requirement already satisfied: pexpect>4.3; sys_platform != \"win32\" in ./anaconda3/lib/python3.8/site-packages (from IPython->-r requirements.txt (line 5)) (4.8.0)\n",
            "Requirement already satisfied: prompt-toolkit!=3.0.0,!=3.0.1,<3.1.0,>=2.0.0 in ./anaconda3/lib/python3.8/site-packages (from IPython->-r requirements.txt (line 5)) (3.0.8)\n",
            "Requirement already satisfied: setuptools>=18.5 in ./anaconda3/lib/python3.8/site-packages (from IPython->-r requirements.txt (line 5)) (50.3.1.post20201107)\n",
            "Requirement already satisfied: pygments in ./anaconda3/lib/python3.8/site-packages (from IPython->-r requirements.txt (line 5)) (2.7.2)\n",
            "Requirement already satisfied: traitlets>=4.2 in ./anaconda3/lib/python3.8/site-packages (from IPython->-r requirements.txt (line 5)) (5.0.5)\n",
            "Requirement already satisfied: jedi>=0.10 in ./anaconda3/lib/python3.8/site-packages (from IPython->-r requirements.txt (line 5)) (0.17.1)\n",
            "Requirement already satisfied: backcall in ./anaconda3/lib/python3.8/site-packages (from IPython->-r requirements.txt (line 5)) (0.2.0)\n",
            "Requirement already satisfied: pickleshare in ./anaconda3/lib/python3.8/site-packages (from IPython->-r requirements.txt (line 5)) (0.7.5)\n",
            "Requirement already satisfied: decorator in ./anaconda3/lib/python3.8/site-packages (from IPython->-r requirements.txt (line 5)) (4.4.2)\n",
            "Requirement already satisfied: kiwisolver>=1.0.1 in ./anaconda3/lib/python3.8/site-packages (from matplotlib->-r requirements.txt (line 8)) (1.3.0)\n",
            "Requirement already satisfied: cycler>=0.10 in ./anaconda3/lib/python3.8/site-packages (from matplotlib->-r requirements.txt (line 8)) (0.10.0)\n",
            "Requirement already satisfied: pyparsing!=2.0.4,!=2.1.2,!=2.1.6,>=2.0.3 in ./anaconda3/lib/python3.8/site-packages (from matplotlib->-r requirements.txt (line 8)) (2.4.7)\n",
            "Requirement already satisfied: pillow>=6.2.0 in ./anaconda3/lib/python3.8/site-packages (from matplotlib->-r requirements.txt (line 8)) (8.0.1)\n",
            "Requirement already satisfied: certifi>=2020.06.20 in ./anaconda3/lib/python3.8/site-packages (from matplotlib->-r requirements.txt (line 8)) (2020.6.20)\n",
            "Requirement already satisfied: typing-extensions in ./anaconda3/lib/python3.8/site-packages (from torch->-r requirements.txt (line 10)) (3.7.4.3)\n",
            "Requirement already satisfied: cython>=0.27.3 in ./anaconda3/lib/python3.8/site-packages (from pycocotools->-r requirements.txt (line 13)) (0.29.21)\n",
            "Requirement already satisfied: urllib3!=1.25.0,!=1.25.1,<1.26,>=1.21.1 in ./anaconda3/lib/python3.8/site-packages (from requests[socks]>=2.12.0->gdown->-r requirements.txt (line 1)) (1.25.11)\n",
            "Requirement already satisfied: chardet<4,>=3.0.2 in ./anaconda3/lib/python3.8/site-packages (from requests[socks]>=2.12.0->gdown->-r requirements.txt (line 1)) (3.0.4)\n",
            "Requirement already satisfied: idna<3,>=2.5 in ./anaconda3/lib/python3.8/site-packages (from requests[socks]>=2.12.0->gdown->-r requirements.txt (line 1)) (2.10)\n",
            "Requirement already satisfied: PySocks!=1.5.7,>=1.5.6; extra == \"socks\" in ./anaconda3/lib/python3.8/site-packages (from requests[socks]>=2.12.0->gdown->-r requirements.txt (line 1)) (1.7.1)\n",
            "Requirement already satisfied: ptyprocess>=0.5 in ./anaconda3/lib/python3.8/site-packages (from pexpect>4.3; sys_platform != \"win32\"->IPython->-r requirements.txt (line 5)) (0.6.0)\n",
            "Requirement already satisfied: wcwidth in ./anaconda3/lib/python3.8/site-packages (from prompt-toolkit!=3.0.0,!=3.0.1,<3.1.0,>=2.0.0->IPython->-r requirements.txt (line 5)) (0.2.5)\n",
            "Requirement already satisfied: ipython-genutils in ./anaconda3/lib/python3.8/site-packages (from traitlets>=4.2->IPython->-r requirements.txt (line 5)) (0.2.0)\n",
            "Requirement already satisfied: parso<0.8.0,>=0.7.0 in ./anaconda3/lib/python3.8/site-packages (from jedi>=0.10->IPython->-r requirements.txt (line 5)) (0.7.0)\n"
          ]
        }
      ]
    },
    {
      "cell_type": "markdown",
      "metadata": {
        "id": "Lp4s5Q5fdG_x"
      },
      "source": [
        "### Import packages"
      ]
    },
    {
      "cell_type": "code",
      "metadata": {
        "id": "4eZg3dOcWfsV"
      },
      "source": [
        "# Comment google.colab packages if using local runtime\n",
        "# from google.colab import files\n",
        "# from google.colab import drive\n",
        "\n",
        "import os, sys\n",
        "import math\n",
        "import time\n",
        "import copy\n",
        "import re\n",
        "\n",
        "import numpy as np\n",
        "import pandas as pd\n",
        "import json\n",
        "import xml.etree.ElementTree as ET\n",
        "import PIL\n",
        "import IPython\n",
        "\n",
        "import matplotlib\n",
        "import matplotlib.pyplot as plt\n",
        "\n",
        "import torch\n",
        "from torch.utils.tensorboard import SummaryWriter\n",
        "import torchvision\n",
        "import torchvision.models.detection as M\n",
        "import torchvision.transforms.functional as F\n",
        "import torchvision.utils as U\n",
        "from torchvision.datasets import CocoDetection\n",
        "\n",
        "from pycocotools import coco\n",
        "from pycocotools import mask as cocomask\n",
        "\n",
        "from ptflops import get_model_complexity_info\n",
        "\n",
        "import scripts.utils as SU\n",
        "import scripts.transforms as ST\n",
        "import scripts.engine as SE\n",
        "import scripts.coco_utils as SCU\n",
        "from scripts.coco_eval import CocoEvaluator"
      ],
      "execution_count": 3,
      "outputs": []
    },
    {
      "cell_type": "markdown",
      "metadata": {
        "id": "LBR6LGJI2nbe"
      },
      "source": [
        "### Define auxiliary functions"
      ]
    },
    {
      "cell_type": "code",
      "metadata": {
        "id": "hLvVp8ME2xt0"
      },
      "source": [
        "def add_motion_blur(img, kernel_size, kernel_angle):\n",
        "  \n",
        "  kernel = np.zeros((kernel_size, kernel_size))\n",
        "  \n",
        "  if kernel_angle == 'v':  # Vertical Motion Blur\n",
        "    kernel[:, int((kernel_size - 1)/2)] = np.ones(kernel_size)\n",
        "\n",
        "  elif kernel_angle == 'h':  # Horizontal Motion Blur\n",
        "    kernel[int((kernel_size - 1)/2), :] = np.ones(kernel_size)\n",
        "\n",
        "  return cv2.filter2D(img, -1, kernel)"
      ],
      "execution_count": 4,
      "outputs": []
    },
    {
      "cell_type": "markdown",
      "metadata": {
        "id": "6hBNZ1E5oHv2"
      },
      "source": [
        "### (Optional) Connect to GDrive for storage access\n",
        "*Note: Not possible with local runtime*"
      ]
    },
    {
      "cell_type": "code",
      "metadata": {
        "colab": {
          "base_uri": "https://localhost:8080/"
        },
        "id": "8gUb3wQZX9R8",
        "outputId": "26dffb89-781e-46c7-80ed-5f33aea482a1"
      },
      "source": [
        "drive.mount('/content/drive', force_remount=True)"
      ],
      "execution_count": null,
      "outputs": [
        {
          "output_type": "stream",
          "name": "stdout",
          "text": [
            "Mounted at /content/drive\n"
          ]
        }
      ]
    },
    {
      "cell_type": "markdown",
      "metadata": {
        "id": "kFpoV3E0-smW"
      },
      "source": [
        "### Download Mask dataset"
      ]
    },
    {
      "cell_type": "code",
      "metadata": {
        "id": "HZmlJ1DpK3ZG"
      },
      "source": [
        "!cd {root_dir}\n",
        "!mkdir -p dataset_{dataset_name}\n",
        "!cd {dataset_dir}\n",
        "!mkdir -p {img_dir} {ann_dir} {label_dir}\n",
        "!cd {img_dir}\n",
        "!mkdir {val_img_dir} {train_img_dir}\n",
        "!cd {label_dir}\n",
        "!mkdir {val_label_dir} {train_label_dir}"
      ],
      "execution_count": null,
      "outputs": []
    },
    {
      "cell_type": "code",
      "metadata": {
        "id": "iLsRgTRRuu3J"
      },
      "source": [
        "if dataset_name == 'MASKD':\n",
        "\n",
        "  !cd {root_dir}\n",
        "\n",
        "  # Download validation images\n",
        "  if not os.path.exists('val_images.zip'):\n",
        "    !gdown --id '101F2k6PJ-tD_uwlsCG7zzGF9ILJW01M1'\n",
        "  !unzip -q -n 'val_images.zip' {img_dir}\n",
        "\n",
        "  # Download train images\n",
        "  if not os.path.exists('train_images.zip'):\n",
        "    !gdown --id '1vD_Sxg7dHkB_8OJLsHngBWvp5iGJAETQ'\n",
        "  !unzip -q -n 'train_images.zip' {img_dir}\n",
        "\n",
        "  # Download validation annotations\n",
        "  if not os.path.exists(os.path.join(ann_dir,'val.json')):\n",
        "    !gdown -O {os.path.join(ann_dir.'val.json')} --id '1YLV7-7vmiNdFI8Xpdx_jbhnxfgQRWrgF'\n",
        "\n",
        "  # Download train annotations\n",
        "  if not os.path.exists(os.path.join(ann_dir,'train.json')):\n",
        "    !gdown -O {os.path.join(ann_dir.'train.json')}  --id '1AqeDJps-aZ743vFJ6p2_RjtSFjPtIOtD'\n",
        "\n",
        "elif dataset_name == 'PWMFD':\n",
        "\n",
        "  # Download validation images\n",
        "  if not os.path.exists('val_images.rar'):\n",
        "    !gdown -O 'val_images.rar' --id  1ZXuSwoRvTnnca81RUj3kMoLFZJ6auAwT\n",
        "  !unrar e -idq -o- 'val_images.rar' {val_img_dir}\n",
        "\n",
        "  # Download train images\n",
        "  if not os.path.exists('train_images.rar'):\n",
        "    !gdown -O 'train_images.rar' --id  16uI5ZEiq2JEYBH4_DhmxVAHSqzY5UQ1b\n",
        "  !unrar e -idq -o- 'train_images.rar' {train_img_dir} \n",
        "\n",
        "  # Convert annotation files from PASCAL VOC .xml to COCO .json (only for PWMFD dataset)\n",
        "  \n",
        "  label_ids = {'with_mask': 1, 'without_mask': 2, 'incorrect_mask': 3}  # BG class is 0\n",
        "    \n",
        "  for type_images in ['val', 'train']:\n",
        "\n",
        "    ann_count = 0  # Annotation counter\n",
        "\n",
        "    images = []\n",
        "    annotations = []\n",
        "    \n",
        "    type_images_dir = os.path.join(images_dir,f'{type_images}_images')\n",
        "\n",
        "    xml_files = os.listdir(type_images_dir)\n",
        "    xml_files = [file for file in xml_files if '.xml' in file]\n",
        "\n",
        "    for xml_file in xml_files:\n",
        "\n",
        "      tree = ET.parse(os.path.join(type_images_dir,xml_file))\n",
        "      root = tree.getroot()\n",
        "\n",
        "      # Image\n",
        "      file_name = root[0].text\n",
        "      height = int(root[1][1].text)\n",
        "      width = int(root[1][0].text)\n",
        "      id = int(re.sub(r'^\\D*0*', '', file_name).replace('.jpg',''))\n",
        "      images.append(\n",
        "          {\n",
        "            'file_name': file_name,\n",
        "            'height': height,\n",
        "            'width': width,\n",
        "            'id': id\n",
        "          }\n",
        "      )\n",
        "      \n",
        "      # Annotations\n",
        "      if len(root) > 2:  # If annotations (object attribute) exist, they will be after the 1-index attribute in the XML\n",
        "        for i in range(2,len(root)):\n",
        "          category_id = label_ids[root[i][0].text]\n",
        "          xmin = int(root[i][1][0].text)\n",
        "          ymin = int(root[i][1][1].text)\n",
        "          xmax = int(root[i][1][2].text)\n",
        "          ymax = int(root[i][1][3].text)\n",
        "          annotations.append(\n",
        "              {\n",
        "                'iscrowd': 0,\n",
        "                'image_id': id,\n",
        "                'bbox': [xmin, ymin, xmax-xmin, ymax-ymin],\n",
        "                'area': (xmax-xmin) * (ymax-ymin),\n",
        "                'category_id': category_id,\n",
        "                'ignore': 0,\n",
        "                'id': ann_count,\n",
        "                'segmentation': []\n",
        "              }\n",
        "          )\n",
        "          ann_count += 1\n",
        "\n",
        "    coco_dict = {\n",
        "    'info': {},\n",
        "    'images': images,\n",
        "    'annotations': annotations,\n",
        "    'licenses': []\n",
        "    }\n",
        "\n",
        "    with open(os.path.join(ann_dir,f'{type_images}.json'),'w') as outfile:\n",
        "      json.dump(coco_dict, outfile, indent=3)\n",
        "\n",
        "\n",
        "# Copy COCO annotations in images folder\n",
        "!cp {os.path.join(ann_dir,'val.json')} {val_img_dir}\n",
        "!cp {os.path.join(ann_dir,'train.json')} {train_img_dir}"
      ],
      "execution_count": 7,
      "outputs": []
    },
    {
      "cell_type": "markdown",
      "metadata": {
        "id": "TqD0UEvTBQsD"
      },
      "source": [
        "### (Only for YOLO models) Convert format of annotations from COCO to YOLO"
      ]
    },
    {
      "cell_type": "code",
      "metadata": {
        "colab": {
          "base_uri": "https://localhost:8080/"
        },
        "id": "KPgZDxhEBPyZ",
        "outputId": "7bf1d2c8-5d87-40bb-bd19-c7d443161691"
      },
      "source": [
        "for type_images in ['val', 'train']:\n",
        "\n",
        "    ann_path = os.path.join(ann_dir, type_images + \".json\")\n",
        "    dataset = coco.COCO(ann_path)\n",
        "    img_ids = dataset.getImgIds()\n",
        "\n",
        "    for img_id in img_ids:\n",
        "\n",
        "      img_anns = dataset.loadAnns(dataset.getAnnIds([img_id]))\n",
        "      img_data = dataset.loadImgs([img_id])[0]\n",
        "      img_file = img_data['file_name']\n",
        "      img_width = img_data['width']\n",
        "      img_height = img_data['height']\n",
        "\n",
        "      label_file = img_file.replace('.jpg','.txt')\n",
        "      \n",
        "      with open(os.path.join(label_dir, f'{type_images}_images', label_file), 'w') as outfile:\n",
        "        for ann in img_anns:\n",
        "          x_center = (ann['bbox'][0] + ann['bbox'][2]/2) / img_width  # convert x_min to x_center and normalize to [0,1]\n",
        "          y_center = (ann['bbox'][1] + ann['bbox'][3]/2) / img_height  # convert y_min to y_center and normalize to [0,1]\n",
        "          width = ann['bbox'][2] / img_width\n",
        "          height = ann['bbox'][3] / img_height \n",
        "          outfile.write(\"{} {} {} {} {}\\n\".format(int(ann['category_id'])-1,x_center,y_center,width,height))   # Category ids must be 0-indexed\n"
      ],
      "execution_count": 8,
      "outputs": [
        {
          "output_type": "stream",
          "name": "stdout",
          "text": [
            "loading annotations into memory...\n",
            "Done (t=0.01s)\n",
            "creating index...\n",
            "index created!\n",
            "loading annotations into memory...\n",
            "Done (t=0.11s)\n",
            "creating index...\n",
            "index created!\n"
          ]
        }
      ]
    },
    {
      "cell_type": "markdown",
      "metadata": {
        "id": "Uara-01_5NIB"
      },
      "source": [
        "### Load Mask dataset"
      ]
    },
    {
      "cell_type": "code",
      "metadata": {
        "id": "DC4qQcYh5R88",
        "colab": {
          "base_uri": "https://localhost:8080/"
        },
        "outputId": "c4ef435f-b8a4-4cff-86d8-d207b84276ae"
      },
      "source": [
        "val_ann_file = 'val.json'  # annotations\n",
        "val_ann_path = os.path.join(val_img_dir,val_ann_file)  \n",
        "\n",
        "train_ann_file = 'train.json'  # annotations\n",
        "train_ann_path = os.path.join(train_img_dir,train_ann_file)  \n",
        "\n",
        "# Define data transforms\n",
        "transforms = ST.Compose([ST.ToTensor()])\n",
        "\n",
        "# Create datasets\n",
        "val_dataset = CocoDetection(val_img_dir, val_ann_path, transforms = transforms)\n",
        "train_dataset = CocoDetection(train_img_dir, train_ann_path, transforms = transforms)\n",
        "\n",
        "# Create data loaders\n",
        "val_data_loader = torch.utils.data.DataLoader(val_dataset, batch_size=batch_size, shuffle=False, num_workers=num_workers, collate_fn=SU.collate_fn)\n",
        "train_data_loader = torch.utils.data.DataLoader(train_dataset, batch_size=batch_size, shuffle=False, num_workers=num_workers, collate_fn=SU.collate_fn)"
      ],
      "execution_count": 6,
      "outputs": [
        {
          "output_type": "stream",
          "name": "stdout",
          "text": [
            "loading annotations into memory...\n",
            "Done (t=0.04s)\n",
            "creating index...\n",
            "index created!\n",
            "loading annotations into memory...\n",
            "Done (t=0.15s)\n",
            "creating index...\n",
            "index created!\n"
          ]
        }
      ]
    },
    {
      "cell_type": "markdown",
      "metadata": {
        "id": "zXwGEoyOZfKq"
      },
      "source": [
        "### Load pre-trained model"
      ]
    },
    {
      "cell_type": "code",
      "metadata": {
        "id": "ZVJqPlW8dTvc",
        "colab": {
          "base_uri": "https://localhost:8080/",
          "height": 292,
          "referenced_widgets": [
            "eaa09ad5a7764482b6c81b848afe3bd2",
            "e1bd20fe7d4249b2b1b66b0057662905",
            "7a619d70c4de40519b3c66192916a85c",
            "bb9e07276fdb4bacbef185989dd21057",
            "c3e7d8431ac04031bc4228beebef216f",
            "5f6a5d97cab8454081a0d1a702cf66e7",
            "d0bbeeedfa4945239b2d0d28ae599c32",
            "68f92cb4d9a1419791db6857a5d9da06",
            "203c25148b46464ab232f74ec1d769b4",
            "fa5bc888b3c444b0b013bec483e7d502",
            "e2461b8e4def4695a7ce42eaf47da742"
          ]
        },
        "cellView": "form",
        "outputId": "8b685430-9ca4-418a-cd3f-8128085fb339"
      },
      "source": [
        "%cd {root_dir}\n",
        "\n",
        "# Delete utils package to reload it (if loaded), because YOLOv3 and YOLOv5 have\n",
        "# the same name for it and it causes error\n",
        "try:\n",
        "  sys.modules.pop('utils')\n",
        "except:\n",
        "  pass\n",
        "\n",
        "# @markdown Model Selection { display-mode: 'form', run: 'auto' }\n",
        "model_name = 'YOLOv5s' # @param ['SSD300 VGG16', 'SSDlite320 MobileNetV3-Large', 'Faster R-CNN ResNet-50 FPN', 'Faster R-CNN MobileNetV3-Large FPN', 'Mask R-CNN ResNet-50 FPN', 'YOLOv5s', 'YOLOv5m', 'YOLOv5l', 'YOLOv3', 'YOLOv3-tiny', 'YOLOv3-spp']\n",
        "\n",
        "# @markdown *Note: If you get the error \"Cache may be out of date, try 'force_reload=True'\" then restart runtime.*\n",
        "\n",
        "if model_name == 'SSD300 VGG16':\n",
        "  model_id = 'ssd300_vgg16'\n",
        "  model = M.ssd300_vgg16(pretrained=True, progress=True)\n",
        "  model_img_size = (3,300,300)\n",
        "elif model_name == 'SSDlite320 MobileNetV3-Large':\n",
        "  model_id = 'ssdlite320_mobilenet_v3_large'\n",
        "  model = M.ssdlite320_mobilenet_v3_large(pretrained=True, progress=True)\n",
        "  model_img_size = (3,320,320)\n",
        "elif model_name == 'Faster R-CNN ResNet-50 FPN':\n",
        "  model_id = 'fasterrcnn_resnet50_fpn'\n",
        "  model = M.fasterrcnn_resnet50_fpn(pretrained=True, progress=True)\n",
        "  model_img_size = (3,800,800) # COCO's 640x640 in upscaled to the model's minimum 800x800\n",
        "elif model_name == 'Faster R-CNN MobileNetV3-Large FPN':\n",
        "  model_id = 'fasterrcnn_mobilenet_v3_large_fpn'\n",
        "  model = M.fasterrcnn_mobilenet_v3_large_fpn(pretrained=True, progress=True)\n",
        "  model_img_size = (3,800,800) \n",
        "elif model_name == 'Mask R-CNN ResNet-50 FPN':\n",
        "  model_id = 'maskrcnn_resnet50_fpn'\n",
        "  model = M.maskrcnn_resnet50_fpn(pretrained=True, progress=True)\n",
        "  model_img_size = (3,800,800)\n",
        "elif model_name == 'YOLOv5s':\n",
        "  model_id = 'yolov5s'\n",
        "  model = torch.hub.load('ultralytics/yolov5', 'yolov5s', force_reload=True)\n",
        "  model_img_size = (3,640,640)\n",
        "elif model_name == 'YOLOv5m':\n",
        "  model_id = 'yolov5m'\n",
        "  model = torch.hub.load('ultralytics/yolov5', 'yolov5m', force_reload=True)\n",
        "  model_img_size = (3,640,640)\n",
        "elif model_name == 'YOLOv5l':\n",
        "  model_id = 'yolov5l'\n",
        "  model = torch.hub.load('ultralytics/yolov5', 'yolov5l', force_reload=True)\n",
        "  model_img_size = (3,640,640)\n",
        "elif model_name == 'YOLOv3':\n",
        "  model_id = 'yolov3'\n",
        "  model = torch.hub.load('ultralytics/yolov3', 'yolov3', force_reload=True)\n",
        "  model_img_size = (3,640,640)\n",
        "elif model_name == 'YOLOv3-tiny':\n",
        "  model_id = 'yolov3_tiny'\n",
        "  model = torch.hub.load('ultralytics/yolov3', 'yolov3_tiny', force_reload=True)\n",
        "  model_img_size = (3,640,640)\n",
        "elif model_name == 'YOLOv3-spp':\n",
        "  model_id = 'yolov3_spp'\n",
        "  model = torch.hub.load('ultralytics/yolov3', 'yolov3_spp', force_reload=True)\n",
        "  model_img_size = (3,640,640)\n",
        "\n",
        "print('-------------------------------------------------------------------------------------------------------\\n')\n",
        "\n",
        "print(f'Loaded model: {model_name}')\n",
        "model_params = round(sum([param.numel() for param in model.parameters()]) / 1000000, 1)\n",
        "print(f'\\t- Parameters: {model_params}M')\n",
        "model_macs, _ = get_model_complexity_info(model, model_img_size, as_strings=False, \n",
        "                                          print_per_layer_stat=False, verbose=False)\n",
        "model_gflops = round(2 * int(model_macs) / 1000000000, 1)\n",
        "print(f'\\t- GFLOPs: {model_gflops}')"
      ],
      "execution_count": 7,
      "outputs": [
        {
          "output_type": "stream",
          "name": "stdout",
          "text": [
            "/home/ioanna\n"
          ]
        },
        {
          "output_type": "stream",
          "name": "stderr",
          "text": [
            "Downloading: \"https://github.com/ultralytics/yolov5/archive/master.zip\" to /home/ioanna/.cache/torch/hub/master.zip\n",
            "YOLOv5 🚀 2021-10-7 torch 1.9.1+cu102 CUDA:0 (GeForce GTX 960, 4036.25MB)\n",
            "\n"
          ]
        },
        {
          "output_type": "stream",
          "name": "stdout",
          "text": [
            "Downloading https://github.com/ultralytics/yolov5/releases/download/v5.0/yolov5s.pt to /home/ioanna/.cache/torch/hub/ultralytics_yolov5_master/yolov5s.pt...\n"
          ]
        },
        {
          "output_type": "display_data",
          "data": {
            "text/plain": [
              "HBox(children=(HTML(value=''), FloatProgress(value=0.0, max=14795158.0), HTML(value='')))"
            ],
            "application/vnd.jupyter.widget-view+json": {
              "version_major": 2,
              "version_minor": 0,
              "model_id": "eaa09ad5a7764482b6c81b848afe3bd2"
            }
          },
          "metadata": {}
        },
        {
          "output_type": "stream",
          "name": "stdout",
          "text": [
            "\n",
            "\n"
          ]
        },
        {
          "output_type": "stream",
          "name": "stderr",
          "text": [
            "Fusing layers... \n",
            "Model Summary: 224 layers, 7266973 parameters, 0 gradients\n",
            "Adding AutoShape... \n"
          ]
        },
        {
          "output_type": "stream",
          "name": "stdout",
          "text": [
            "-------------------------------------------------------------------------------------------------------\n",
            "\n",
            "Loaded model: YOLOv5s\n",
            "\t- Parameters: 7.3M\n",
            "\t- GFLOPs: 17.0\n"
          ]
        }
      ]
    },
    {
      "cell_type": "markdown",
      "metadata": {
        "id": "w0hskTBqjSOj"
      },
      "source": [
        "### (Optional) Open Tensorboard Monitor"
      ]
    },
    {
      "cell_type": "code",
      "metadata": {
        "id": "qyI5lrXoMw9K",
        "colab": {
          "base_uri": "https://localhost:8080/",
          "height": 837
        },
        "outputId": "d6c20871-83e2-4ecb-b57d-3ce2f9e42fb1"
      },
      "source": [
        "# Load Tensorboard\n",
        "\n",
        "%reload_ext tensorboard\n",
        "%tensorboard --bind_all --logdir {save_ckpt_dir}"
      ],
      "execution_count": 9,
      "outputs": [
        {
          "output_type": "display_data",
          "data": {
            "text/plain": [
              "Reusing TensorBoard on port 6006 (pid 7610), started 0:00:40 ago. (Use '!kill 7610' to kill it.)"
            ]
          },
          "metadata": {}
        },
        {
          "output_type": "display_data",
          "data": {
            "text/plain": [
              "<IPython.core.display.HTML object>"
            ],
            "text/html": [
              "\n",
              "      <iframe id=\"tensorboard-frame-e096b228873f6b92\" width=\"100%\" height=\"800\" frameborder=\"0\">\n",
              "      </iframe>\n",
              "      <script>\n",
              "        (function() {\n",
              "          const frame = document.getElementById(\"tensorboard-frame-e096b228873f6b92\");\n",
              "          const url = new URL(\"/\", window.location);\n",
              "          const port = 6006;\n",
              "          if (port) {\n",
              "            url.port = port;\n",
              "          }\n",
              "          frame.src = url;\n",
              "        })();\n",
              "      </script>\n",
              "    "
            ]
          },
          "metadata": {}
        }
      ]
    },
    {
      "cell_type": "markdown",
      "metadata": {
        "id": "OvGK5hUw-q_k"
      },
      "source": [
        "### Train model"
      ]
    },
    {
      "cell_type": "code",
      "metadata": {
        "id": "94J_kCy--zPp",
        "colab": {
          "base_uri": "https://localhost:8080/"
        },
        "outputId": "8101ef42-be2b-44d4-c4b9-e10988451097"
      },
      "source": [
        "# Set model checkpoint folder\n",
        "start_time = int(time.time())\n",
        "save_ckpt_folder = f'{dataset_name}_{model_id}_{start_time}_run'\n",
        "\n",
        "# Prepare model for new dataset (for Fast R-CNN or Mask R-CNN)\n",
        "if 'R-CNN' in model_name: \n",
        "  num_classes = len(val_dataset.coco.getCatIds())+1  # includes background (0) class\n",
        "  # Get the number of input features for the bbox predictor\n",
        "  in_features = model.roi_heads.box_predictor.cls_score.in_features\n",
        "  # Replace the pre-trained head with a new one\n",
        "  model.roi_heads.box_predictor = M.faster_rcnn.FastRCNNPredictor(in_features, num_classes)\n",
        "  if 'Mask R-CNN' in model_name:\n",
        "    # Get the number of input features for the segmentation max predictor\n",
        "    in_features_mask = model.roi_heads.mask_predictor.conv5_mask.in_channels\n",
        "    hidden_layer = 256\n",
        "    # Replace the mask predictor with a new one\n",
        "    model.roi_heads.mask_predictor = M.mask_rcnn.MaskRCNNPredictor(in_features_mask, hidden_layer,num_classes)\n",
        "\n",
        "# Model Training \n",
        "\n",
        "if 'YOLO' in model_name: # For YOLO models\n",
        "\n",
        "  yolo_version = int(model_id[5])\n",
        "\n",
        "  # Generate hyperparameter file\n",
        "  %cd {root_dir}\n",
        "  %cp {root_dir}/yolov{yolo_version}/data/{'hyps/' if yolo_version == 5 else ''}hyp.scratch.yaml {root_dir}/hyp.yaml\n",
        "  with open('hyp.yaml','a') as outfile:\n",
        "    outfile.write(\n",
        "\n",
        "f\"\"\"lr0: {lr}\n",
        "momentum: {momentum}\n",
        "weight_decay: {weight_decay}\"\"\"\n",
        "\n",
        ")\n",
        "\n",
        "  train_script_path = os.path.join(root_dir,f'yolov{yolo_version}','train.py')\n",
        "  config_path = os.path.join(root_dir,'config',f'{dataset_name}_yolov{yolo_version}.yaml')\n",
        "  if load_ckpt:  # If load a pre-existing checkpoint, resume from it\n",
        "    temp_save_ckpt_folder = re.search(r'/' + dataset_name + '[^/]*/', load_ckpt_path).group(0).replace('/','')  # Get the save folder name from the loaded folder name\n",
        "    temp_load_ckpt_path = load_ckpt_path\n",
        "  else:  # If not to load a pre-existing checkpoint, load pre-trained COCO weights\n",
        "    temp_save_ckpt_folder = save_ckpt_folder\n",
        "    temp_load_ckpt_path = f'{model_id.replace(\"_\",\"-\")}.pt'  \n",
        "\n",
        "  !python {train_script_path} --img {img_res} --batch {batch_size} --epochs {num_epochs} --hyp 'hyp.yaml' --project {save_ckpt_dir} --name {temp_save_ckpt_folder} {'--resume ' + temp_load_ckpt_path if load_ckpt else '--weights ' + temp_load_ckpt_path } {'--adam' if optimizer_type=='adam' else ''} --data {config_path}\n",
        "\n",
        "else: # For all the other models\n",
        "\n",
        "  # Make checkpoint folder\n",
        "  !mkdir {os.path.join(ckpt_dir,ckpt_folder)}\n",
        "\n",
        "  # Load pre-existing checkpoint weights if required\n",
        "  last_epoch = 0\n",
        "  if load_ckpt:\n",
        "    model.load_state_dict(torch.load(load_ckpt_path))\n",
        "    last_epoch = int(re.search(r'epoch[0-9]+', load_ckpt_path).group(0)[5:])\n",
        "    print(f'Loaded checkpoint: {load_ckpt_path}')\n",
        "\n",
        "  # Get appropriate device for model\n",
        "  device = torch.device('cuda') if torch.cuda.is_available() else torch.device('cpu')\n",
        "  model.to(device)\n",
        "  print(f'Pre-trained Model: {model_name}')\n",
        "\n",
        "  # Construct an optimizer\n",
        "  params = [p for p in model.parameters() if p.requires_grad]\n",
        "  if optimizer_type == 'adam':\n",
        "    optimizer = torch.optim.Adam(params, lr=lr, weight_decay=weight_decay)\n",
        "  elif optimizer_type == 'sgd':\n",
        "    optimizer = torch.optim.SGD(params, lr=lr, momentum=momentum, weight_decay=weight_decay)\n",
        "\n",
        "  # Construct learning rate scheduler\n",
        "  lr_scheduler = torch.optim.lr_scheduler.StepLR(optimizer, step_size=step_size, gamma=gamma)\n",
        "\n",
        "  # Save training configs to .txt\n",
        "  config_path = os.path.join(save_ckpt_dir,save_ckpt_folder,'config.txt')\n",
        "  with open(config_path,'w') as outfile:\n",
        "    outfile.write( \n",
        "                         \n",
        "f\"\"\"dataset: {dataset_name}\n",
        "model: {model_id}\n",
        "timestamp: {start_time}\n",
        "last_checkpoint: {load_ckpt_path if load_ckpt else None}\n",
        "num_epochs: {num_epochs}\n",
        "batch_size: {batch_size}\n",
        "optimizer: {optimizer_type}\n",
        "learning_rate: {lr}\n",
        "step_size: {step_size}\n",
        "gamma: {gamma}\n",
        "momentum: {momentum}\n",
        "weight_decay: {weight_decay}\"\"\"\n",
        "\n",
        ")\n",
        "\n",
        "  # Train model\n",
        "  for epoch in range(num_epochs):\n",
        "\n",
        "      curr_epoch = last_epoch + epoch + 1\n",
        "\n",
        "      # Train for one epoch, printing every 10 iterations\n",
        "      metric_logger = SE.train_one_epoch(model, optimizer, train_data_loader, device, epoch, print_freq=1)\n",
        "      \n",
        "      # Update the learning rate\n",
        "      lr_scheduler.step()\n",
        "      \n",
        "      # Evaluate on the test dataset\n",
        "      evaluator, _, _, _ = SE.evaluate(model, val_data_loader, device)\n",
        "\n",
        "      # Save model checkpoint\n",
        "      ckpt_file = f'epoch{curr_epoch}'\n",
        "      ckpt_path = os.path.join(ckpt_dir,ckpt_folder,ckpt_file)\n",
        "      torch.save(model.state_dict(), ckpt_path)\n",
        "\n",
        "      # Delete previous model checkpoint\n",
        "      previous_ckpt_file = f'epoch{curr_epoch-1}'\n",
        "      if os.path.exists(previous_ckpt_file):\n",
        "        os.remove(previous_ckpt_file)"
      ],
      "execution_count": 13,
      "outputs": [
        {
          "output_type": "stream",
          "name": "stdout",
          "text": [
            "/home/ioanna\n",
            "\u001b[34m\u001b[1mtrain: \u001b[0mweights=yolov5s.pt, cfg=, data=/home/ioanna/config/PWMFD_yolov5.yaml, hyp=hyp.yaml, epochs=50, batch_size=8, imgsz=640, rect=False, resume=False, nosave=False, noval=False, noautoanchor=False, evolve=None, bucket=, cache=None, image_weights=False, device=, multi_scale=False, single_cls=False, adam=False, sync_bn=False, workers=8, entity=None, project=/home/ioanna/object-detection-checkpoints, name=PWMFD_yolov5s_1633613513_run, exist_ok=False, quad=False, linear_lr=False, label_smoothing=0.0, upload_dataset=False, bbox_interval=-1, save_period=-1, artifact_alias=latest, local_rank=-1, freeze=0, patience=100\n",
            "\u001b[34m\u001b[1mgithub: \u001b[0mskipping check (not a git repository), for updates see https://github.com/ultralytics/yolov5\n",
            "YOLOv5 🚀 v5.0-493-g1922dde torch 1.9.1+cu102 CUDA:0 (GeForce GTX 960, 4036.25MB)\n",
            "\n",
            "\u001b[34m\u001b[1mhyperparameters: \u001b[0mlr0=0.01, lrf=0.2, momentum=0.937, weight_decay=0.0005, warmup_epochs=3.0, warmup_momentum=0.8, warmup_bias_lr=0.1, box=0.05, cls=0.5, cls_pw=1.0, obj=1.0, obj_pw=1.0, iou_t=0.2, anchor_t=4.0, fl_gamma=0.0, hsv_h=0.015, hsv_s=0.7, hsv_v=0.4, degrees=0.0, translate=0.1, scale=0.5, shear=0.0, perspective=0.0, flipud=0.0, fliplr=0.5, mosaic=1.0, mixup=0.0, copy_paste=0.0\n",
            "\u001b[34m\u001b[1mWeights & Biases: \u001b[0mrun 'pip install wandb' to automatically track and visualize YOLOv5 🚀 runs (RECOMMENDED)\n",
            "\u001b[34m\u001b[1mTensorBoard: \u001b[0mStart with 'tensorboard --logdir /home/ioanna/object-detection-checkpoints', view at http://localhost:6006/\n",
            "Overriding model.yaml nc=80 with nc=3\n",
            "\n",
            "                 from  n    params  module                                  arguments                     \n",
            "  0                -1  1      3520  models.common.Focus                     [3, 32, 3]                    \n",
            "  1                -1  1     18560  models.common.Conv                      [32, 64, 3, 2]                \n",
            "  2                -1  1     18816  models.common.C3                        [64, 64, 1]                   \n",
            "  3                -1  1     73984  models.common.Conv                      [64, 128, 3, 2]               \n",
            "  4                -1  3    156928  models.common.C3                        [128, 128, 3]                 \n",
            "  5                -1  1    295424  models.common.Conv                      [128, 256, 3, 2]              \n",
            "  6                -1  3    625152  models.common.C3                        [256, 256, 3]                 \n",
            "  7                -1  1   1180672  models.common.Conv                      [256, 512, 3, 2]              \n",
            "  8                -1  1    656896  models.common.SPP                       [512, 512, [5, 9, 13]]        \n",
            "  9                -1  1   1182720  models.common.C3                        [512, 512, 1, False]          \n",
            " 10                -1  1    131584  models.common.Conv                      [512, 256, 1, 1]              \n",
            " 11                -1  1         0  torch.nn.modules.upsampling.Upsample    [None, 2, 'nearest']          \n",
            " 12           [-1, 6]  1         0  models.common.Concat                    [1]                           \n",
            " 13                -1  1    361984  models.common.C3                        [512, 256, 1, False]          \n",
            " 14                -1  1     33024  models.common.Conv                      [256, 128, 1, 1]              \n",
            " 15                -1  1         0  torch.nn.modules.upsampling.Upsample    [None, 2, 'nearest']          \n",
            " 16           [-1, 4]  1         0  models.common.Concat                    [1]                           \n",
            " 17                -1  1     90880  models.common.C3                        [256, 128, 1, False]          \n",
            " 18                -1  1    147712  models.common.Conv                      [128, 128, 3, 2]              \n",
            " 19          [-1, 14]  1         0  models.common.Concat                    [1]                           \n",
            " 20                -1  1    296448  models.common.C3                        [256, 256, 1, False]          \n",
            " 21                -1  1    590336  models.common.Conv                      [256, 256, 3, 2]              \n",
            " 22          [-1, 10]  1         0  models.common.Concat                    [1]                           \n",
            " 23                -1  1   1182720  models.common.C3                        [512, 512, 1, False]          \n",
            " 24      [17, 20, 23]  1     21576  models.yolo.Detect                      [3, [[10, 13, 16, 30, 33, 23], [30, 61, 62, 45, 59, 119], [116, 90, 156, 198, 373, 326]], [128, 256, 512]]\n",
            "Model Summary: 283 layers, 7068936 parameters, 7068936 gradients, 16.4 GFLOPs\n",
            "\n",
            "Transferred 356/362 items from yolov5s.pt\n",
            "Scaled weight_decay = 0.0005\n",
            "\u001b[34m\u001b[1moptimizer:\u001b[0m SGD with parameter groups 59 weight, 62 weight (no decay), 62 bias\n",
            "\u001b[34m\u001b[1mtrain: \u001b[0mScanning 'dataset_PWMFD/labels/train_images.cache' images and labels... 7\u001b[0m\u001b[34m\u001b[1mtrain: \u001b[0mWARNING: corrupt JPEG restored and saved dataset_PWMFD/images/train_images/000140.jpg\n",
            "\u001b[34m\u001b[1mtrain: \u001b[0mWARNING: corrupt JPEG restored and saved dataset_PWMFD/images/train_images/000250.jpg\n",
            "\u001b[34m\u001b[1mtrain: \u001b[0mWARNING: corrupt JPEG restored and saved dataset_PWMFD/images/train_images/000256.jpg\n",
            "\u001b[34m\u001b[1mtrain: \u001b[0mWARNING: corrupt JPEG restored and saved dataset_PWMFD/images/train_images/000307.jpg\n",
            "\u001b[34m\u001b[1mtrain: \u001b[0mWARNING: corrupt JPEG restored and saved dataset_PWMFD/images/train_images/000627.jpg\n",
            "\u001b[34m\u001b[1mtrain: \u001b[0mWARNING: corrupt JPEG restored and saved dataset_PWMFD/images/train_images/000855.jpg\n",
            "\u001b[34m\u001b[1mtrain: \u001b[0mWARNING: corrupt JPEG restored and saved dataset_PWMFD/images/train_images/000992.jpg\n",
            "\u001b[34m\u001b[1mtrain: \u001b[0mWARNING: corrupt JPEG restored and saved dataset_PWMFD/images/train_images/001043.jpg\n",
            "\u001b[34m\u001b[1mtrain: \u001b[0mWARNING: corrupt JPEG restored and saved dataset_PWMFD/images/train_images/001074.jpg\n",
            "\u001b[34m\u001b[1mtrain: \u001b[0mWARNING: corrupt JPEG restored and saved dataset_PWMFD/images/train_images/001280.jpg\n",
            "\u001b[34m\u001b[1mtrain: \u001b[0mWARNING: corrupt JPEG restored and saved dataset_PWMFD/images/train_images/001392.jpg\n",
            "\u001b[34m\u001b[1mtrain: \u001b[0mWARNING: corrupt JPEG restored and saved dataset_PWMFD/images/train_images/001481.jpg\n",
            "\u001b[34m\u001b[1mtrain: \u001b[0mWARNING: corrupt JPEG restored and saved dataset_PWMFD/images/train_images/002031.jpg\n",
            "\u001b[34m\u001b[1mtrain: \u001b[0mWARNING: corrupt JPEG restored and saved dataset_PWMFD/images/train_images/002158.jpg\n",
            "\u001b[34m\u001b[1mtrain: \u001b[0mWARNING: corrupt JPEG restored and saved dataset_PWMFD/images/train_images/004669.jpg\n",
            "\u001b[34m\u001b[1mtrain: \u001b[0mWARNING: corrupt JPEG restored and saved dataset_PWMFD/images/train_images/004694.jpg\n",
            "\u001b[34m\u001b[1mtrain: \u001b[0mWARNING: corrupt JPEG restored and saved dataset_PWMFD/images/train_images/004737.jpg\n",
            "\u001b[34m\u001b[1mtrain: \u001b[0mWARNING: corrupt JPEG restored and saved dataset_PWMFD/images/train_images/004771.jpg\n",
            "\u001b[34m\u001b[1mtrain: \u001b[0mWARNING: corrupt JPEG restored and saved dataset_PWMFD/images/train_images/004773.jpg\n",
            "\u001b[34m\u001b[1mtrain: \u001b[0mWARNING: corrupt JPEG restored and saved dataset_PWMFD/images/train_images/004782.jpg\n",
            "\u001b[34m\u001b[1mtrain: \u001b[0mWARNING: corrupt JPEG restored and saved dataset_PWMFD/images/train_images/004796.jpg\n",
            "\u001b[34m\u001b[1mtrain: \u001b[0mWARNING: corrupt JPEG restored and saved dataset_PWMFD/images/train_images/004813.jpg\n",
            "\u001b[34m\u001b[1mtrain: \u001b[0mWARNING: corrupt JPEG restored and saved dataset_PWMFD/images/train_images/004876.jpg\n",
            "\u001b[34m\u001b[1mtrain: \u001b[0mWARNING: corrupt JPEG restored and saved dataset_PWMFD/images/train_images/004946.jpg\n",
            "\u001b[34m\u001b[1mtrain: \u001b[0mWARNING: corrupt JPEG restored and saved dataset_PWMFD/images/train_images/004993.jpg\n",
            "\u001b[34m\u001b[1mtrain: \u001b[0mWARNING: corrupt JPEG restored and saved dataset_PWMFD/images/train_images/005011.jpg\n",
            "\u001b[34m\u001b[1mtrain: \u001b[0mWARNING: corrupt JPEG restored and saved dataset_PWMFD/images/train_images/005056.jpg\n",
            "\u001b[34m\u001b[1mtrain: \u001b[0mWARNING: corrupt JPEG restored and saved dataset_PWMFD/images/train_images/005098.jpg\n",
            "\u001b[34m\u001b[1mtrain: \u001b[0mWARNING: corrupt JPEG restored and saved dataset_PWMFD/images/train_images/005129.jpg\n",
            "\u001b[34m\u001b[1mtrain: \u001b[0mWARNING: corrupt JPEG restored and saved dataset_PWMFD/images/train_images/005200.jpg\n",
            "\u001b[34m\u001b[1mtrain: \u001b[0mWARNING: corrupt JPEG restored and saved dataset_PWMFD/images/train_images/005264.jpg\n",
            "\u001b[34m\u001b[1mtrain: \u001b[0mWARNING: corrupt JPEG restored and saved dataset_PWMFD/images/train_images/005265.jpg\n",
            "\u001b[34m\u001b[1mtrain: \u001b[0mWARNING: corrupt JPEG restored and saved dataset_PWMFD/images/train_images/005266.jpg\n",
            "\u001b[34m\u001b[1mtrain: \u001b[0mWARNING: corrupt JPEG restored and saved dataset_PWMFD/images/train_images/005269.jpg\n",
            "\u001b[34m\u001b[1mtrain: \u001b[0mWARNING: corrupt JPEG restored and saved dataset_PWMFD/images/train_images/007218.jpg\n",
            "\u001b[34m\u001b[1mtrain: \u001b[0mWARNING: corrupt JPEG restored and saved dataset_PWMFD/images/train_images/007228.jpg\n",
            "\u001b[34m\u001b[1mtrain: \u001b[0mWARNING: corrupt JPEG restored and saved dataset_PWMFD/images/train_images/007920.jpg\n",
            "\u001b[34m\u001b[1mtrain: \u001b[0mWARNING: corrupt JPEG restored and saved dataset_PWMFD/images/train_images/007968.jpg\n",
            "\u001b[34m\u001b[1mtrain: \u001b[0mWARNING: corrupt JPEG restored and saved dataset_PWMFD/images/train_images/008021.jpg\n",
            "\u001b[34m\u001b[1mtrain: \u001b[0mWARNING: corrupt JPEG restored and saved dataset_PWMFD/images/train_images/008762.jpg\n",
            "\u001b[34m\u001b[1mtrain: \u001b[0mWARNING: corrupt JPEG restored and saved dataset_PWMFD/images/train_images/008792.jpg\n",
            "\u001b[34m\u001b[1mtrain: \u001b[0mWARNING: corrupt JPEG restored and saved dataset_PWMFD/images/train_images/008796.jpg\n",
            "\u001b[34m\u001b[1mtrain: \u001b[0mWARNING: corrupt JPEG restored and saved dataset_PWMFD/images/train_images/008869.jpg\n",
            "\u001b[34m\u001b[1mtrain: \u001b[0mScanning 'dataset_PWMFD/labels/train_images.cache' images and labels... 7\u001b[0m\n",
            "\u001b[34m\u001b[1mval: \u001b[0mScanning 'dataset_PWMFD/labels/val_images.cache' images and labels... 1820 \u001b[0m\u001b[34m\u001b[1mval: \u001b[0mWARNING: corrupt JPEG restored and saved dataset_PWMFD/images/val_images/000567.jpg\n",
            "\u001b[34m\u001b[1mval: \u001b[0mWARNING: corrupt JPEG restored and saved dataset_PWMFD/images/val_images/000867.jpg\n",
            "\u001b[34m\u001b[1mval: \u001b[0mWARNING: corrupt JPEG restored and saved dataset_PWMFD/images/val_images/001131.jpg\n",
            "\u001b[34m\u001b[1mval: \u001b[0mWARNING: corrupt JPEG restored and saved dataset_PWMFD/images/val_images/001309.jpg\n",
            "\u001b[34m\u001b[1mval: \u001b[0mWARNING: corrupt JPEG restored and saved dataset_PWMFD/images/val_images/001367.jpg\n",
            "\u001b[34m\u001b[1mval: \u001b[0mWARNING: corrupt JPEG restored and saved dataset_PWMFD/images/val_images/001492.jpg\n",
            "\u001b[34m\u001b[1mval: \u001b[0mWARNING: corrupt JPEG restored and saved dataset_PWMFD/images/val_images/001571.jpg\n",
            "\u001b[34m\u001b[1mval: \u001b[0mWARNING: corrupt JPEG restored and saved dataset_PWMFD/images/val_images/001588.jpg\n",
            "\u001b[34m\u001b[1mval: \u001b[0mWARNING: corrupt JPEG restored and saved dataset_PWMFD/images/val_images/001905.jpg\n",
            "\u001b[34m\u001b[1mval: \u001b[0mWARNING: corrupt JPEG restored and saved dataset_PWMFD/images/val_images/001991.jpg\n",
            "\u001b[34m\u001b[1mval: \u001b[0mWARNING: corrupt JPEG restored and saved dataset_PWMFD/images/val_images/004863.jpg\n",
            "\u001b[34m\u001b[1mval: \u001b[0mWARNING: corrupt JPEG restored and saved dataset_PWMFD/images/val_images/005062.jpg\n",
            "\u001b[34m\u001b[1mval: \u001b[0mWARNING: corrupt JPEG restored and saved dataset_PWMFD/images/val_images/005134.jpg\n",
            "\u001b[34m\u001b[1mval: \u001b[0mScanning 'dataset_PWMFD/labels/val_images.cache' images and labels... 1820 \u001b[0m\n",
            "Plotting labels... \n",
            "\n",
            "\u001b[34m\u001b[1mautoanchor: \u001b[0mAnalyzing anchors... anchors/target = 5.28, Best Possible Recall (BPR) = 0.9996\n",
            "Image sizes 640 train, 640 val\n",
            "Using 4 dataloader workers\n",
            "Logging results to \u001b[1m/home/ioanna/object-detection-checkpoints/PWMFD_yolov5s_1633613513_run\u001b[0m\n",
            "Starting training for 50 epochs...\n",
            "\n",
            "     Epoch   gpu_mem       box       obj       cls    labels  img_size\n",
            "      0/49     1.75G   0.06991   0.03227   0.02233         4       640: 100%|█| \n",
            "               Class     Images     Labels          P          R     mAP@.5 mAP@\n",
            "                 all       1820       1830      0.895      0.537      0.597      0.273\n",
            "\n",
            "     Epoch   gpu_mem       box       obj       cls    labels  img_size\n",
            "      1/49     1.54G   0.05177   0.02364  0.009845        41       640:  73%|▋| ^C\n",
            "      1/49     1.54G   0.05177   0.02364  0.009845        41       640:  73%|▋| \n",
            "Traceback (most recent call last):\n",
            "  File \"/home/ioanna/yolov5/train.py\", line 615, in <module>\n",
            "    main(opt)\n",
            "  File \"/home/ioanna/yolov5/train.py\", line 512, in main\n",
            "    train(opt.hyp, opt, device, callbacks)\n",
            "  File \"/home/ioanna/yolov5/train.py\", line 338, in train\n",
            "    pbar.set_description(('%10s' * 2 + '%10.4g' * 5) % (\n",
            "KeyboardInterrupt\n"
          ]
        }
      ]
    }
  ]
}